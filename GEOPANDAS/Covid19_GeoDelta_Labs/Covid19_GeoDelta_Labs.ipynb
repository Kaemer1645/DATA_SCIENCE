{
 "cells": [
  {
   "cell_type": "code",
   "execution_count": 45,
   "metadata": {},
   "outputs": [],
   "source": [
    "import pandas as pd\n",
    "import geopandas as gpd\n",
    "\n",
    "import os\n",
    "\n",
    "import requests\n",
    "\n",
    "import matplotlib.pyplot as plt"
   ]
  },
  {
   "cell_type": "raw",
   "metadata": {},
   "source": [
    "Import data from website"
   ]
  },
  {
   "cell_type": "raw",
   "metadata": {},
   "source": [
    "Confirmed cases"
   ]
  },
  {
   "cell_type": "code",
   "execution_count": 46,
   "metadata": {},
   "outputs": [
    {
     "data": {
      "text/html": [
       "<div>\n",
       "<style scoped>\n",
       "    .dataframe tbody tr th:only-of-type {\n",
       "        vertical-align: middle;\n",
       "    }\n",
       "\n",
       "    .dataframe tbody tr th {\n",
       "        vertical-align: top;\n",
       "    }\n",
       "\n",
       "    .dataframe thead th {\n",
       "        text-align: right;\n",
       "    }\n",
       "</style>\n",
       "<table border=\"1\" class=\"dataframe\">\n",
       "  <thead>\n",
       "    <tr style=\"text-align: right;\">\n",
       "      <th></th>\n",
       "      <th>Unnamed: 0</th>\n",
       "      <th>Province/State</th>\n",
       "      <th>Country/Region</th>\n",
       "      <th>Lat</th>\n",
       "      <th>Long</th>\n",
       "      <th>1/22/20</th>\n",
       "      <th>1/23/20</th>\n",
       "      <th>1/24/20</th>\n",
       "      <th>1/25/20</th>\n",
       "      <th>1/26/20</th>\n",
       "      <th>...</th>\n",
       "      <th>9/13/20</th>\n",
       "      <th>9/14/20</th>\n",
       "      <th>9/15/20</th>\n",
       "      <th>9/16/20</th>\n",
       "      <th>9/17/20</th>\n",
       "      <th>9/18/20</th>\n",
       "      <th>9/19/20</th>\n",
       "      <th>9/20/20</th>\n",
       "      <th>9/21/20</th>\n",
       "      <th>9/22/20</th>\n",
       "    </tr>\n",
       "  </thead>\n",
       "  <tbody>\n",
       "    <tr>\n",
       "      <th>0</th>\n",
       "      <td>NaN</td>\n",
       "      <td>NaN</td>\n",
       "      <td>Afghanistan</td>\n",
       "      <td>33.93911</td>\n",
       "      <td>67.709953</td>\n",
       "      <td>0</td>\n",
       "      <td>0</td>\n",
       "      <td>0</td>\n",
       "      <td>0</td>\n",
       "      <td>0</td>\n",
       "      <td>...</td>\n",
       "      <td>38716</td>\n",
       "      <td>38772</td>\n",
       "      <td>38815</td>\n",
       "      <td>38855</td>\n",
       "      <td>38872</td>\n",
       "      <td>38883</td>\n",
       "      <td>38919</td>\n",
       "      <td>39044</td>\n",
       "      <td>39074</td>\n",
       "      <td>39096</td>\n",
       "    </tr>\n",
       "    <tr>\n",
       "      <th>1</th>\n",
       "      <td>NaN</td>\n",
       "      <td>NaN</td>\n",
       "      <td>Albania</td>\n",
       "      <td>41.15330</td>\n",
       "      <td>20.168300</td>\n",
       "      <td>0</td>\n",
       "      <td>0</td>\n",
       "      <td>0</td>\n",
       "      <td>0</td>\n",
       "      <td>0</td>\n",
       "      <td>...</td>\n",
       "      <td>11353</td>\n",
       "      <td>11520</td>\n",
       "      <td>11672</td>\n",
       "      <td>11816</td>\n",
       "      <td>11948</td>\n",
       "      <td>12073</td>\n",
       "      <td>12226</td>\n",
       "      <td>12385</td>\n",
       "      <td>12535</td>\n",
       "      <td>12666</td>\n",
       "    </tr>\n",
       "    <tr>\n",
       "      <th>2</th>\n",
       "      <td>NaN</td>\n",
       "      <td>NaN</td>\n",
       "      <td>Algeria</td>\n",
       "      <td>28.03390</td>\n",
       "      <td>1.659600</td>\n",
       "      <td>0</td>\n",
       "      <td>0</td>\n",
       "      <td>0</td>\n",
       "      <td>0</td>\n",
       "      <td>0</td>\n",
       "      <td>...</td>\n",
       "      <td>48254</td>\n",
       "      <td>48496</td>\n",
       "      <td>48734</td>\n",
       "      <td>48966</td>\n",
       "      <td>49194</td>\n",
       "      <td>49413</td>\n",
       "      <td>49623</td>\n",
       "      <td>49826</td>\n",
       "      <td>50023</td>\n",
       "      <td>50214</td>\n",
       "    </tr>\n",
       "    <tr>\n",
       "      <th>3</th>\n",
       "      <td>NaN</td>\n",
       "      <td>NaN</td>\n",
       "      <td>Andorra</td>\n",
       "      <td>42.50630</td>\n",
       "      <td>1.521800</td>\n",
       "      <td>0</td>\n",
       "      <td>0</td>\n",
       "      <td>0</td>\n",
       "      <td>0</td>\n",
       "      <td>0</td>\n",
       "      <td>...</td>\n",
       "      <td>1344</td>\n",
       "      <td>1438</td>\n",
       "      <td>1438</td>\n",
       "      <td>1483</td>\n",
       "      <td>1483</td>\n",
       "      <td>1564</td>\n",
       "      <td>1564</td>\n",
       "      <td>1564</td>\n",
       "      <td>1681</td>\n",
       "      <td>1681</td>\n",
       "    </tr>\n",
       "    <tr>\n",
       "      <th>4</th>\n",
       "      <td>NaN</td>\n",
       "      <td>NaN</td>\n",
       "      <td>Angola</td>\n",
       "      <td>-11.20270</td>\n",
       "      <td>17.873900</td>\n",
       "      <td>0</td>\n",
       "      <td>0</td>\n",
       "      <td>0</td>\n",
       "      <td>0</td>\n",
       "      <td>0</td>\n",
       "      <td>...</td>\n",
       "      <td>3388</td>\n",
       "      <td>3439</td>\n",
       "      <td>3569</td>\n",
       "      <td>3675</td>\n",
       "      <td>3789</td>\n",
       "      <td>3848</td>\n",
       "      <td>3901</td>\n",
       "      <td>3991</td>\n",
       "      <td>4117</td>\n",
       "      <td>4236</td>\n",
       "    </tr>\n",
       "  </tbody>\n",
       "</table>\n",
       "<p>5 rows × 250 columns</p>\n",
       "</div>"
      ],
      "text/plain": [
       "   Unnamed: 0 Province/State Country/Region       Lat       Long  1/22/20  \\\n",
       "0         NaN            NaN    Afghanistan  33.93911  67.709953        0   \n",
       "1         NaN            NaN        Albania  41.15330  20.168300        0   \n",
       "2         NaN            NaN        Algeria  28.03390   1.659600        0   \n",
       "3         NaN            NaN        Andorra  42.50630   1.521800        0   \n",
       "4         NaN            NaN         Angola -11.20270  17.873900        0   \n",
       "\n",
       "   1/23/20  1/24/20  1/25/20  1/26/20  ...  9/13/20  9/14/20  9/15/20  \\\n",
       "0        0        0        0        0  ...    38716    38772    38815   \n",
       "1        0        0        0        0  ...    11353    11520    11672   \n",
       "2        0        0        0        0  ...    48254    48496    48734   \n",
       "3        0        0        0        0  ...     1344     1438     1438   \n",
       "4        0        0        0        0  ...     3388     3439     3569   \n",
       "\n",
       "   9/16/20  9/17/20  9/18/20  9/19/20  9/20/20  9/21/20  9/22/20  \n",
       "0    38855    38872    38883    38919    39044    39074    39096  \n",
       "1    11816    11948    12073    12226    12385    12535    12666  \n",
       "2    48966    49194    49413    49623    49826    50023    50214  \n",
       "3     1483     1483     1564     1564     1564     1681     1681  \n",
       "4     3675     3789     3848     3901     3991     4117     4236  \n",
       "\n",
       "[5 rows x 250 columns]"
      ]
     },
     "execution_count": 46,
     "metadata": {},
     "output_type": "execute_result"
    }
   ],
   "source": [
    "data_confirmed = pd.read_html('https://github.com/CSSEGISandData/COVID-19/blob/master/csse_covid_19_data/csse_covid_19_time_series/time_series_covid19_confirmed_global.csv')\n",
    "for df_confirmed in data_confirmed:\n",
    "    pass\n",
    "df_confirmed = df_confirmed\n",
    "#df_confirmed = df_confirmed.groupby('Country/Region').sum()\n",
    "df_confirmed.head()\n",
    "#data_pl = df_confirmed[df_confirmed['Country/Region']=='Australia']\n",
    "#data_pl\n"
   ]
  },
  {
   "cell_type": "raw",
   "metadata": {},
   "source": [
    "Recovery cases"
   ]
  },
  {
   "cell_type": "code",
   "execution_count": 47,
   "metadata": {},
   "outputs": [
    {
     "data": {
      "text/html": [
       "<div>\n",
       "<style scoped>\n",
       "    .dataframe tbody tr th:only-of-type {\n",
       "        vertical-align: middle;\n",
       "    }\n",
       "\n",
       "    .dataframe tbody tr th {\n",
       "        vertical-align: top;\n",
       "    }\n",
       "\n",
       "    .dataframe thead th {\n",
       "        text-align: right;\n",
       "    }\n",
       "</style>\n",
       "<table border=\"1\" class=\"dataframe\">\n",
       "  <thead>\n",
       "    <tr style=\"text-align: right;\">\n",
       "      <th></th>\n",
       "      <th>Unnamed: 0</th>\n",
       "      <th>Lat</th>\n",
       "      <th>Long</th>\n",
       "      <th>1/22/20</th>\n",
       "      <th>1/23/20</th>\n",
       "      <th>1/24/20</th>\n",
       "      <th>1/25/20</th>\n",
       "      <th>1/26/20</th>\n",
       "      <th>1/27/20</th>\n",
       "      <th>1/28/20</th>\n",
       "      <th>...</th>\n",
       "      <th>9/13/20</th>\n",
       "      <th>9/14/20</th>\n",
       "      <th>9/15/20</th>\n",
       "      <th>9/16/20</th>\n",
       "      <th>9/17/20</th>\n",
       "      <th>9/18/20</th>\n",
       "      <th>9/19/20</th>\n",
       "      <th>9/20/20</th>\n",
       "      <th>9/21/20</th>\n",
       "      <th>9/22/20</th>\n",
       "    </tr>\n",
       "    <tr>\n",
       "      <th>Country/Region</th>\n",
       "      <th></th>\n",
       "      <th></th>\n",
       "      <th></th>\n",
       "      <th></th>\n",
       "      <th></th>\n",
       "      <th></th>\n",
       "      <th></th>\n",
       "      <th></th>\n",
       "      <th></th>\n",
       "      <th></th>\n",
       "      <th></th>\n",
       "      <th></th>\n",
       "      <th></th>\n",
       "      <th></th>\n",
       "      <th></th>\n",
       "      <th></th>\n",
       "      <th></th>\n",
       "      <th></th>\n",
       "      <th></th>\n",
       "      <th></th>\n",
       "      <th></th>\n",
       "    </tr>\n",
       "  </thead>\n",
       "  <tbody>\n",
       "    <tr>\n",
       "      <th>Afghanistan</th>\n",
       "      <td>0.0</td>\n",
       "      <td>33.93911</td>\n",
       "      <td>67.709953</td>\n",
       "      <td>0</td>\n",
       "      <td>0</td>\n",
       "      <td>0</td>\n",
       "      <td>0</td>\n",
       "      <td>0</td>\n",
       "      <td>0</td>\n",
       "      <td>0</td>\n",
       "      <td>...</td>\n",
       "      <td>31638</td>\n",
       "      <td>32073</td>\n",
       "      <td>32098</td>\n",
       "      <td>32503</td>\n",
       "      <td>32505</td>\n",
       "      <td>32576</td>\n",
       "      <td>32576</td>\n",
       "      <td>32576</td>\n",
       "      <td>32576</td>\n",
       "      <td>32576</td>\n",
       "    </tr>\n",
       "    <tr>\n",
       "      <th>Albania</th>\n",
       "      <td>0.0</td>\n",
       "      <td>41.15330</td>\n",
       "      <td>20.168300</td>\n",
       "      <td>0</td>\n",
       "      <td>0</td>\n",
       "      <td>0</td>\n",
       "      <td>0</td>\n",
       "      <td>0</td>\n",
       "      <td>0</td>\n",
       "      <td>0</td>\n",
       "      <td>...</td>\n",
       "      <td>6569</td>\n",
       "      <td>6615</td>\n",
       "      <td>6668</td>\n",
       "      <td>6733</td>\n",
       "      <td>6788</td>\n",
       "      <td>6831</td>\n",
       "      <td>6888</td>\n",
       "      <td>6940</td>\n",
       "      <td>6995</td>\n",
       "      <td>7042</td>\n",
       "    </tr>\n",
       "    <tr>\n",
       "      <th>Algeria</th>\n",
       "      <td>0.0</td>\n",
       "      <td>28.03390</td>\n",
       "      <td>1.659600</td>\n",
       "      <td>0</td>\n",
       "      <td>0</td>\n",
       "      <td>0</td>\n",
       "      <td>0</td>\n",
       "      <td>0</td>\n",
       "      <td>0</td>\n",
       "      <td>0</td>\n",
       "      <td>...</td>\n",
       "      <td>34037</td>\n",
       "      <td>34204</td>\n",
       "      <td>34385</td>\n",
       "      <td>34517</td>\n",
       "      <td>34675</td>\n",
       "      <td>34818</td>\n",
       "      <td>34923</td>\n",
       "      <td>35047</td>\n",
       "      <td>35180</td>\n",
       "      <td>35307</td>\n",
       "    </tr>\n",
       "    <tr>\n",
       "      <th>Andorra</th>\n",
       "      <td>0.0</td>\n",
       "      <td>42.50630</td>\n",
       "      <td>1.521800</td>\n",
       "      <td>0</td>\n",
       "      <td>0</td>\n",
       "      <td>0</td>\n",
       "      <td>0</td>\n",
       "      <td>0</td>\n",
       "      <td>0</td>\n",
       "      <td>0</td>\n",
       "      <td>...</td>\n",
       "      <td>943</td>\n",
       "      <td>945</td>\n",
       "      <td>945</td>\n",
       "      <td>1054</td>\n",
       "      <td>1054</td>\n",
       "      <td>1164</td>\n",
       "      <td>1164</td>\n",
       "      <td>1164</td>\n",
       "      <td>1199</td>\n",
       "      <td>1199</td>\n",
       "    </tr>\n",
       "    <tr>\n",
       "      <th>Angola</th>\n",
       "      <td>0.0</td>\n",
       "      <td>-11.20270</td>\n",
       "      <td>17.873900</td>\n",
       "      <td>0</td>\n",
       "      <td>0</td>\n",
       "      <td>0</td>\n",
       "      <td>0</td>\n",
       "      <td>0</td>\n",
       "      <td>0</td>\n",
       "      <td>0</td>\n",
       "      <td>...</td>\n",
       "      <td>1301</td>\n",
       "      <td>1324</td>\n",
       "      <td>1332</td>\n",
       "      <td>1401</td>\n",
       "      <td>1405</td>\n",
       "      <td>1443</td>\n",
       "      <td>1445</td>\n",
       "      <td>1445</td>\n",
       "      <td>1449</td>\n",
       "      <td>1462</td>\n",
       "    </tr>\n",
       "  </tbody>\n",
       "</table>\n",
       "<p>5 rows × 248 columns</p>\n",
       "</div>"
      ],
      "text/plain": [
       "                Unnamed: 0       Lat       Long  1/22/20  1/23/20  1/24/20  \\\n",
       "Country/Region                                                               \n",
       "Afghanistan            0.0  33.93911  67.709953        0        0        0   \n",
       "Albania                0.0  41.15330  20.168300        0        0        0   \n",
       "Algeria                0.0  28.03390   1.659600        0        0        0   \n",
       "Andorra                0.0  42.50630   1.521800        0        0        0   \n",
       "Angola                 0.0 -11.20270  17.873900        0        0        0   \n",
       "\n",
       "                1/25/20  1/26/20  1/27/20  1/28/20  ...  9/13/20  9/14/20  \\\n",
       "Country/Region                                      ...                     \n",
       "Afghanistan           0        0        0        0  ...    31638    32073   \n",
       "Albania               0        0        0        0  ...     6569     6615   \n",
       "Algeria               0        0        0        0  ...    34037    34204   \n",
       "Andorra               0        0        0        0  ...      943      945   \n",
       "Angola                0        0        0        0  ...     1301     1324   \n",
       "\n",
       "                9/15/20  9/16/20  9/17/20  9/18/20  9/19/20  9/20/20  9/21/20  \\\n",
       "Country/Region                                                                  \n",
       "Afghanistan       32098    32503    32505    32576    32576    32576    32576   \n",
       "Albania            6668     6733     6788     6831     6888     6940     6995   \n",
       "Algeria           34385    34517    34675    34818    34923    35047    35180   \n",
       "Andorra             945     1054     1054     1164     1164     1164     1199   \n",
       "Angola             1332     1401     1405     1443     1445     1445     1449   \n",
       "\n",
       "                9/22/20  \n",
       "Country/Region           \n",
       "Afghanistan       32576  \n",
       "Albania            7042  \n",
       "Algeria           35307  \n",
       "Andorra            1199  \n",
       "Angola             1462  \n",
       "\n",
       "[5 rows x 248 columns]"
      ]
     },
     "execution_count": 47,
     "metadata": {},
     "output_type": "execute_result"
    }
   ],
   "source": [
    "data_recovery = pd.read_html('https://github.com/CSSEGISandData/COVID-19/blob/master/csse_covid_19_data/csse_covid_19_time_series/time_series_covid19_recovered_global.csv')\n",
    "for df_recovery in data_recovery:\n",
    "    pass\n",
    "\n",
    "df_recovery = df_recovery\n",
    "df_recovery = df_recovery.groupby('Country/Region').sum()\n",
    "#df_recovery\n",
    "df_recovery.head()"
   ]
  },
  {
   "cell_type": "raw",
   "metadata": {},
   "source": [
    "Death cases"
   ]
  },
  {
   "cell_type": "code",
   "execution_count": 48,
   "metadata": {},
   "outputs": [
    {
     "data": {
      "text/html": [
       "<div>\n",
       "<style scoped>\n",
       "    .dataframe tbody tr th:only-of-type {\n",
       "        vertical-align: middle;\n",
       "    }\n",
       "\n",
       "    .dataframe tbody tr th {\n",
       "        vertical-align: top;\n",
       "    }\n",
       "\n",
       "    .dataframe thead th {\n",
       "        text-align: right;\n",
       "    }\n",
       "</style>\n",
       "<table border=\"1\" class=\"dataframe\">\n",
       "  <thead>\n",
       "    <tr style=\"text-align: right;\">\n",
       "      <th></th>\n",
       "      <th>Unnamed: 0</th>\n",
       "      <th>Lat</th>\n",
       "      <th>Long</th>\n",
       "      <th>1/22/20</th>\n",
       "      <th>1/23/20</th>\n",
       "      <th>1/24/20</th>\n",
       "      <th>1/25/20</th>\n",
       "      <th>1/26/20</th>\n",
       "      <th>1/27/20</th>\n",
       "      <th>1/28/20</th>\n",
       "      <th>...</th>\n",
       "      <th>9/13/20</th>\n",
       "      <th>9/14/20</th>\n",
       "      <th>9/15/20</th>\n",
       "      <th>9/16/20</th>\n",
       "      <th>9/17/20</th>\n",
       "      <th>9/18/20</th>\n",
       "      <th>9/19/20</th>\n",
       "      <th>9/20/20</th>\n",
       "      <th>9/21/20</th>\n",
       "      <th>9/22/20</th>\n",
       "    </tr>\n",
       "    <tr>\n",
       "      <th>Country/Region</th>\n",
       "      <th></th>\n",
       "      <th></th>\n",
       "      <th></th>\n",
       "      <th></th>\n",
       "      <th></th>\n",
       "      <th></th>\n",
       "      <th></th>\n",
       "      <th></th>\n",
       "      <th></th>\n",
       "      <th></th>\n",
       "      <th></th>\n",
       "      <th></th>\n",
       "      <th></th>\n",
       "      <th></th>\n",
       "      <th></th>\n",
       "      <th></th>\n",
       "      <th></th>\n",
       "      <th></th>\n",
       "      <th></th>\n",
       "      <th></th>\n",
       "      <th></th>\n",
       "    </tr>\n",
       "  </thead>\n",
       "  <tbody>\n",
       "    <tr>\n",
       "      <th>Afghanistan</th>\n",
       "      <td>0.0</td>\n",
       "      <td>33.93911</td>\n",
       "      <td>67.709953</td>\n",
       "      <td>0</td>\n",
       "      <td>0</td>\n",
       "      <td>0</td>\n",
       "      <td>0</td>\n",
       "      <td>0</td>\n",
       "      <td>0</td>\n",
       "      <td>0</td>\n",
       "      <td>...</td>\n",
       "      <td>1420</td>\n",
       "      <td>1425</td>\n",
       "      <td>1426</td>\n",
       "      <td>1436</td>\n",
       "      <td>1436</td>\n",
       "      <td>1437</td>\n",
       "      <td>1437</td>\n",
       "      <td>1441</td>\n",
       "      <td>1444</td>\n",
       "      <td>1445</td>\n",
       "    </tr>\n",
       "    <tr>\n",
       "      <th>Albania</th>\n",
       "      <td>0.0</td>\n",
       "      <td>41.15330</td>\n",
       "      <td>20.168300</td>\n",
       "      <td>0</td>\n",
       "      <td>0</td>\n",
       "      <td>0</td>\n",
       "      <td>0</td>\n",
       "      <td>0</td>\n",
       "      <td>0</td>\n",
       "      <td>0</td>\n",
       "      <td>...</td>\n",
       "      <td>334</td>\n",
       "      <td>338</td>\n",
       "      <td>340</td>\n",
       "      <td>343</td>\n",
       "      <td>347</td>\n",
       "      <td>353</td>\n",
       "      <td>358</td>\n",
       "      <td>362</td>\n",
       "      <td>364</td>\n",
       "      <td>367</td>\n",
       "    </tr>\n",
       "    <tr>\n",
       "      <th>Algeria</th>\n",
       "      <td>0.0</td>\n",
       "      <td>28.03390</td>\n",
       "      <td>1.659600</td>\n",
       "      <td>0</td>\n",
       "      <td>0</td>\n",
       "      <td>0</td>\n",
       "      <td>0</td>\n",
       "      <td>0</td>\n",
       "      <td>0</td>\n",
       "      <td>0</td>\n",
       "      <td>...</td>\n",
       "      <td>1612</td>\n",
       "      <td>1620</td>\n",
       "      <td>1632</td>\n",
       "      <td>1645</td>\n",
       "      <td>1654</td>\n",
       "      <td>1659</td>\n",
       "      <td>1665</td>\n",
       "      <td>1672</td>\n",
       "      <td>1679</td>\n",
       "      <td>1689</td>\n",
       "    </tr>\n",
       "    <tr>\n",
       "      <th>Andorra</th>\n",
       "      <td>0.0</td>\n",
       "      <td>42.50630</td>\n",
       "      <td>1.521800</td>\n",
       "      <td>0</td>\n",
       "      <td>0</td>\n",
       "      <td>0</td>\n",
       "      <td>0</td>\n",
       "      <td>0</td>\n",
       "      <td>0</td>\n",
       "      <td>0</td>\n",
       "      <td>...</td>\n",
       "      <td>53</td>\n",
       "      <td>53</td>\n",
       "      <td>53</td>\n",
       "      <td>53</td>\n",
       "      <td>53</td>\n",
       "      <td>53</td>\n",
       "      <td>53</td>\n",
       "      <td>53</td>\n",
       "      <td>53</td>\n",
       "      <td>53</td>\n",
       "    </tr>\n",
       "    <tr>\n",
       "      <th>Angola</th>\n",
       "      <td>0.0</td>\n",
       "      <td>-11.20270</td>\n",
       "      <td>17.873900</td>\n",
       "      <td>0</td>\n",
       "      <td>0</td>\n",
       "      <td>0</td>\n",
       "      <td>0</td>\n",
       "      <td>0</td>\n",
       "      <td>0</td>\n",
       "      <td>0</td>\n",
       "      <td>...</td>\n",
       "      <td>134</td>\n",
       "      <td>136</td>\n",
       "      <td>139</td>\n",
       "      <td>143</td>\n",
       "      <td>144</td>\n",
       "      <td>147</td>\n",
       "      <td>147</td>\n",
       "      <td>152</td>\n",
       "      <td>154</td>\n",
       "      <td>155</td>\n",
       "    </tr>\n",
       "  </tbody>\n",
       "</table>\n",
       "<p>5 rows × 248 columns</p>\n",
       "</div>"
      ],
      "text/plain": [
       "                Unnamed: 0       Lat       Long  1/22/20  1/23/20  1/24/20  \\\n",
       "Country/Region                                                               \n",
       "Afghanistan            0.0  33.93911  67.709953        0        0        0   \n",
       "Albania                0.0  41.15330  20.168300        0        0        0   \n",
       "Algeria                0.0  28.03390   1.659600        0        0        0   \n",
       "Andorra                0.0  42.50630   1.521800        0        0        0   \n",
       "Angola                 0.0 -11.20270  17.873900        0        0        0   \n",
       "\n",
       "                1/25/20  1/26/20  1/27/20  1/28/20  ...  9/13/20  9/14/20  \\\n",
       "Country/Region                                      ...                     \n",
       "Afghanistan           0        0        0        0  ...     1420     1425   \n",
       "Albania               0        0        0        0  ...      334      338   \n",
       "Algeria               0        0        0        0  ...     1612     1620   \n",
       "Andorra               0        0        0        0  ...       53       53   \n",
       "Angola                0        0        0        0  ...      134      136   \n",
       "\n",
       "                9/15/20  9/16/20  9/17/20  9/18/20  9/19/20  9/20/20  9/21/20  \\\n",
       "Country/Region                                                                  \n",
       "Afghanistan        1426     1436     1436     1437     1437     1441     1444   \n",
       "Albania             340      343      347      353      358      362      364   \n",
       "Algeria            1632     1645     1654     1659     1665     1672     1679   \n",
       "Andorra              53       53       53       53       53       53       53   \n",
       "Angola              139      143      144      147      147      152      154   \n",
       "\n",
       "                9/22/20  \n",
       "Country/Region           \n",
       "Afghanistan        1445  \n",
       "Albania             367  \n",
       "Algeria            1689  \n",
       "Andorra              53  \n",
       "Angola              155  \n",
       "\n",
       "[5 rows x 248 columns]"
      ]
     },
     "execution_count": 48,
     "metadata": {},
     "output_type": "execute_result"
    }
   ],
   "source": [
    "data_deaths = pd.read_html('https://github.com/CSSEGISandData/COVID-19/blob/master/csse_covid_19_data/csse_covid_19_time_series/time_series_covid19_deaths_global.csv')\n",
    "for df_deaths in data_deaths:\n",
    "    pass\n",
    "\n",
    "df_deaths = df_deaths\n",
    "df_deaths = df_deaths.groupby('Country/Region').sum()\n",
    "\n",
    "df_deaths.head()"
   ]
  },
  {
   "cell_type": "raw",
   "metadata": {},
   "source": [
    "Read World Map ShapeFile "
   ]
  },
  {
   "cell_type": "code",
   "execution_count": 49,
   "metadata": {},
   "outputs": [
    {
     "data": {
      "text/html": [
       "<div>\n",
       "<style scoped>\n",
       "    .dataframe tbody tr th:only-of-type {\n",
       "        vertical-align: middle;\n",
       "    }\n",
       "\n",
       "    .dataframe tbody tr th {\n",
       "        vertical-align: top;\n",
       "    }\n",
       "\n",
       "    .dataframe thead th {\n",
       "        text-align: right;\n",
       "    }\n",
       "</style>\n",
       "<table border=\"1\" class=\"dataframe\">\n",
       "  <thead>\n",
       "    <tr style=\"text-align: right;\">\n",
       "      <th></th>\n",
       "      <th>NAME</th>\n",
       "      <th>geometry</th>\n",
       "    </tr>\n",
       "  </thead>\n",
       "  <tbody>\n",
       "    <tr>\n",
       "      <th>0</th>\n",
       "      <td>Antigua and Barbuda</td>\n",
       "      <td>MULTIPOLYGON (((-61.68667 17.02444, -61.73806 ...</td>\n",
       "    </tr>\n",
       "    <tr>\n",
       "      <th>1</th>\n",
       "      <td>Algeria</td>\n",
       "      <td>POLYGON ((2.96361 36.80222, 2.98139 36.80694, ...</td>\n",
       "    </tr>\n",
       "    <tr>\n",
       "      <th>2</th>\n",
       "      <td>Azerbaijan</td>\n",
       "      <td>MULTIPOLYGON (((45.08332 39.76804, 45.26639 39...</td>\n",
       "    </tr>\n",
       "    <tr>\n",
       "      <th>3</th>\n",
       "      <td>Albania</td>\n",
       "      <td>POLYGON ((19.43621 41.02107, 19.45055 41.06000...</td>\n",
       "    </tr>\n",
       "    <tr>\n",
       "      <th>4</th>\n",
       "      <td>Armenia</td>\n",
       "      <td>MULTIPOLYGON (((45.57305 40.63249, 45.52888 40...</td>\n",
       "    </tr>\n",
       "    <tr>\n",
       "      <th>...</th>\n",
       "      <td>...</td>\n",
       "      <td>...</td>\n",
       "    </tr>\n",
       "    <tr>\n",
       "      <th>240</th>\n",
       "      <td>Saint Barthelemy</td>\n",
       "      <td>POLYGON ((-63.02834 18.01555, -63.03334 18.015...</td>\n",
       "    </tr>\n",
       "    <tr>\n",
       "      <th>241</th>\n",
       "      <td>Guernsey</td>\n",
       "      <td>POLYGON ((-2.59083 49.42249, -2.59722 49.42249...</td>\n",
       "    </tr>\n",
       "    <tr>\n",
       "      <th>242</th>\n",
       "      <td>Jersey</td>\n",
       "      <td>POLYGON ((-2.01500 49.21416, -2.02111 49.17722...</td>\n",
       "    </tr>\n",
       "    <tr>\n",
       "      <th>243</th>\n",
       "      <td>South Georgia South Sandwich Islands</td>\n",
       "      <td>MULTIPOLYGON (((-27.32584 -59.42722, -27.29806...</td>\n",
       "    </tr>\n",
       "    <tr>\n",
       "      <th>244</th>\n",
       "      <td>Taiwan</td>\n",
       "      <td>MULTIPOLYGON (((121.57639 22.00139, 121.57027 ...</td>\n",
       "    </tr>\n",
       "  </tbody>\n",
       "</table>\n",
       "<p>245 rows × 2 columns</p>\n",
       "</div>"
      ],
      "text/plain": [
       "                                     NAME  \\\n",
       "0                     Antigua and Barbuda   \n",
       "1                                 Algeria   \n",
       "2                              Azerbaijan   \n",
       "3                                 Albania   \n",
       "4                                 Armenia   \n",
       "..                                    ...   \n",
       "240                      Saint Barthelemy   \n",
       "241                              Guernsey   \n",
       "242                                Jersey   \n",
       "243  South Georgia South Sandwich Islands   \n",
       "244                                Taiwan   \n",
       "\n",
       "                                              geometry  \n",
       "0    MULTIPOLYGON (((-61.68667 17.02444, -61.73806 ...  \n",
       "1    POLYGON ((2.96361 36.80222, 2.98139 36.80694, ...  \n",
       "2    MULTIPOLYGON (((45.08332 39.76804, 45.26639 39...  \n",
       "3    POLYGON ((19.43621 41.02107, 19.45055 41.06000...  \n",
       "4    MULTIPOLYGON (((45.57305 40.63249, 45.52888 40...  \n",
       "..                                                 ...  \n",
       "240  POLYGON ((-63.02834 18.01555, -63.03334 18.015...  \n",
       "241  POLYGON ((-2.59083 49.42249, -2.59722 49.42249...  \n",
       "242  POLYGON ((-2.01500 49.21416, -2.02111 49.17722...  \n",
       "243  MULTIPOLYGON (((-27.32584 -59.42722, -27.29806...  \n",
       "244  MULTIPOLYGON (((121.57639 22.00139, 121.57027 ...  \n",
       "\n",
       "[245 rows x 2 columns]"
      ]
     },
     "execution_count": 49,
     "metadata": {},
     "output_type": "execute_result"
    }
   ],
   "source": [
    "path= os.getcwd()\n",
    "read_map = gpd.read_file(path+'\\\\MAP_DATABASE\\\\World_Map.shp')\n",
    "read_map"
   ]
  },
  {
   "cell_type": "code",
   "execution_count": 50,
   "metadata": {},
   "outputs": [],
   "source": [
    "#read_map.plot()"
   ]
  },
  {
   "cell_type": "code",
   "execution_count": 51,
   "metadata": {},
   "outputs": [
    {
     "name": "stdout",
     "output_type": "stream",
     "text": [
      "Brunei\n",
      "Cabo Verde\n",
      "Congo (Brazzaville)\n",
      "Congo (Kinshasa)\n",
      "Czechia\n",
      "Diamond Princess\n",
      "Eswatini\n",
      "Holy See\n",
      "Iran\n",
      "Korea, South\n",
      "Kosovo\n",
      "Laos\n",
      "Libya\n",
      "MS Zaandam\n",
      "Moldova\n",
      "North Macedonia\n",
      "South Sudan\n",
      "Syria\n",
      "Taiwan*\n",
      "Tanzania\n",
      "US\n",
      "Vietnam\n",
      "West Bank and Gaza\n"
     ]
    }
   ],
   "source": [
    "for items in df_confirmed['Country/Region'].tolist():\n",
    "    read_map_list = read_map['NAME'].tolist()\n",
    "    if items not in read_map_list:\n",
    "        print(items)\n",
    "        \n",
    "\n",
    "    \n",
    "    "
   ]
  },
  {
   "cell_type": "code",
   "execution_count": 88,
   "metadata": {},
   "outputs": [],
   "source": [
    "read_map.replace('Iran (Islamic Republic of)','Iran',inplace=True)\n",
    "read_map.replace('Brunei Darussalam','Brunei',inplace=True)\n",
    "read_map.replace('Cape Verde','Cabo Verde',inplace=True)\n",
    "read_map.replace('Congo','Congo (Brazzaville)',inplace=True)\n",
    "read_map.replace('Congo','Congo (Kinshasa)',inplace=True)\n",
    "read_map.replace('Czech Republic','Czechia',inplace=True)\n",
    "#read_map.replace('','Eswatini',inplace=True)\n",
    "#read_map.replace('','Holy See',inplace=True)\n",
    "read_map.replace('Korea, Republic of','Korea, South',inplace=True)\n",
    "#read_map.replace('','Kosovo',inplace=True)\n",
    "read_map.replace('Lao People\\'s Democratic Republic','Laos',inplace=True)\n",
    "read_map.replace('Libyan Arab Jamahiriya','Libya',inplace=True)\n",
    "#read_map.replace('','MS Zaandam',inplace=True)\n",
    "read_map.replace('Republic of Moldova','Moldova',inplace=True)\n",
    "#read_map.replace('','North Macedonia',inplace=True)\n",
    "read_map.replace('Sudan','South Sudan',inplace=True)\n",
    "read_map.replace('Syrian Arab Republic','Syria',inplace=True)\n",
    "read_map.replace('Taiwan','Taiwan*',inplace=True)\n",
    "#read_map.replace('','Tanzania',inplace=True)\n",
    "read_map.replace('United States','US',inplace=True)\n",
    "read_map.replace('Viet Nam','Vietnam',inplace=True)\n",
    "#read_map.replace('','West Bank and Gaza',inplace=True)\n",
    "\n",
    "\n",
    "\n"
   ]
  },
  {
   "cell_type": "code",
   "execution_count": 89,
   "metadata": {},
   "outputs": [
    {
     "data": {
      "text/html": [
       "<div>\n",
       "<style scoped>\n",
       "    .dataframe tbody tr th:only-of-type {\n",
       "        vertical-align: middle;\n",
       "    }\n",
       "\n",
       "    .dataframe tbody tr th {\n",
       "        vertical-align: top;\n",
       "    }\n",
       "\n",
       "    .dataframe thead th {\n",
       "        text-align: right;\n",
       "    }\n",
       "</style>\n",
       "<table border=\"1\" class=\"dataframe\">\n",
       "  <thead>\n",
       "    <tr style=\"text-align: right;\">\n",
       "      <th></th>\n",
       "      <th>NAME</th>\n",
       "      <th>geometry</th>\n",
       "      <th>9/22/20</th>\n",
       "    </tr>\n",
       "  </thead>\n",
       "  <tbody>\n",
       "    <tr>\n",
       "      <th>0</th>\n",
       "      <td>Antigua and Barbuda</td>\n",
       "      <td>MULTIPOLYGON (((-61.68667 17.02444, -61.73806 ...</td>\n",
       "      <td>96</td>\n",
       "    </tr>\n",
       "    <tr>\n",
       "      <th>1</th>\n",
       "      <td>Algeria</td>\n",
       "      <td>POLYGON ((2.96361 36.80222, 2.98139 36.80694, ...</td>\n",
       "      <td>50214</td>\n",
       "    </tr>\n",
       "    <tr>\n",
       "      <th>2</th>\n",
       "      <td>Azerbaijan</td>\n",
       "      <td>MULTIPOLYGON (((45.08332 39.76804, 45.26639 39...</td>\n",
       "      <td>39378</td>\n",
       "    </tr>\n",
       "    <tr>\n",
       "      <th>3</th>\n",
       "      <td>Albania</td>\n",
       "      <td>POLYGON ((19.43621 41.02107, 19.45055 41.06000...</td>\n",
       "      <td>12666</td>\n",
       "    </tr>\n",
       "    <tr>\n",
       "      <th>4</th>\n",
       "      <td>Armenia</td>\n",
       "      <td>MULTIPOLYGON (((45.57305 40.63249, 45.52888 40...</td>\n",
       "      <td>47667</td>\n",
       "    </tr>\n",
       "    <tr>\n",
       "      <th>...</th>\n",
       "      <td>...</td>\n",
       "      <td>...</td>\n",
       "      <td>...</td>\n",
       "    </tr>\n",
       "    <tr>\n",
       "      <th>251</th>\n",
       "      <td>Timor-Leste</td>\n",
       "      <td>MULTIPOLYGON (((124.44573 -9.18480, 124.34309 ...</td>\n",
       "      <td>27</td>\n",
       "    </tr>\n",
       "    <tr>\n",
       "      <th>252</th>\n",
       "      <td>San Marino</td>\n",
       "      <td>POLYGON ((12.41580 43.95795, 12.45055 43.97972...</td>\n",
       "      <td>723</td>\n",
       "    </tr>\n",
       "    <tr>\n",
       "      <th>253</th>\n",
       "      <td>Western Sahara</td>\n",
       "      <td>POLYGON ((-15.74200 21.33828, -15.89222 21.338...</td>\n",
       "      <td>10</td>\n",
       "    </tr>\n",
       "    <tr>\n",
       "      <th>254</th>\n",
       "      <td>Serbia</td>\n",
       "      <td>POLYGON ((20.07142 42.56091, 20.10583 42.64278...</td>\n",
       "      <td>32999</td>\n",
       "    </tr>\n",
       "    <tr>\n",
       "      <th>255</th>\n",
       "      <td>Taiwan*</td>\n",
       "      <td>MULTIPOLYGON (((121.57639 22.00139, 121.57027 ...</td>\n",
       "      <td>509</td>\n",
       "    </tr>\n",
       "  </tbody>\n",
       "</table>\n",
       "<p>256 rows × 3 columns</p>\n",
       "</div>"
      ],
      "text/plain": [
       "                    NAME                                           geometry  \\\n",
       "0    Antigua and Barbuda  MULTIPOLYGON (((-61.68667 17.02444, -61.73806 ...   \n",
       "1                Algeria  POLYGON ((2.96361 36.80222, 2.98139 36.80694, ...   \n",
       "2             Azerbaijan  MULTIPOLYGON (((45.08332 39.76804, 45.26639 39...   \n",
       "3                Albania  POLYGON ((19.43621 41.02107, 19.45055 41.06000...   \n",
       "4                Armenia  MULTIPOLYGON (((45.57305 40.63249, 45.52888 40...   \n",
       "..                   ...                                                ...   \n",
       "251          Timor-Leste  MULTIPOLYGON (((124.44573 -9.18480, 124.34309 ...   \n",
       "252           San Marino  POLYGON ((12.41580 43.95795, 12.45055 43.97972...   \n",
       "253       Western Sahara  POLYGON ((-15.74200 21.33828, -15.89222 21.338...   \n",
       "254               Serbia  POLYGON ((20.07142 42.56091, 20.10583 42.64278...   \n",
       "255              Taiwan*  MULTIPOLYGON (((121.57639 22.00139, 121.57027 ...   \n",
       "\n",
       "     9/22/20  \n",
       "0         96  \n",
       "1      50214  \n",
       "2      39378  \n",
       "3      12666  \n",
       "4      47667  \n",
       "..       ...  \n",
       "251       27  \n",
       "252      723  \n",
       "253       10  \n",
       "254    32999  \n",
       "255      509  \n",
       "\n",
       "[256 rows x 3 columns]"
      ]
     },
     "execution_count": 89,
     "metadata": {},
     "output_type": "execute_result"
    }
   ],
   "source": [
    "from datetime import date, timedelta\n",
    "\n",
    "today = date.today() # - timedelta(1)\n",
    "today = today.strftime(\"%m/%d/%y\").lstrip(\"0\").replace(\" 0\", \" \")\n",
    "if today in df_confirmed:\n",
    "    real_today = date.today()\n",
    "    real_today = real_today.strftime(\"%m/%d/%y\").lstrip(\"0\").replace(\" 0\", \" \")\n",
    "else:\n",
    "    real_today = date.today() - timedelta(1)\n",
    "    real_today = real_today.strftime(\"%m/%d/%y\").lstrip(\"0\").replace(\" 0\", \" \")\n",
    "df_confirmed.rename(columns={'Country/Region':'NAME'},inplace=True)\n",
    "cases = df_confirmed.loc[:,['NAME',str(real_today)]]\n",
    "cases\n",
    "combined = read_map.merge(cases, on = 'NAME')\n",
    "combined"
   ]
  },
  {
   "cell_type": "code",
   "execution_count": 90,
   "metadata": {},
   "outputs": [],
   "source": [
    "import plotly.express as px\n",
    "\n",
    "fig = px.choropleth(combined, locations=\"NAME\", locationmode='country names', \n",
    "                     color=str(real_today), hover_name=\"NAME\", \n",
    "                     range_color= [0, max(combined[str(real_today)])+2], \n",
    "                     projection=\"natural earth\", \n",
    "                     title=\"COVID-19 na swiecie\" \n",
    "                     )"
   ]
  },
  {
   "cell_type": "code",
   "execution_count": 91,
   "metadata": {},
   "outputs": [
    {
     "data": {
      "application/vnd.plotly.v1+json": {
       "config": {
        "plotlyServerURL": "https://plot.ly"
       },
       "data": [
        {
         "coloraxis": "coloraxis",
         "geo": "geo",
         "hovertemplate": "<b>%{hovertext}</b><br><br>NAME=%{location}<br>9/22/20=%{z}<extra></extra>",
         "hovertext": [
          "Antigua and Barbuda",
          "Algeria",
          "Azerbaijan",
          "Albania",
          "Armenia",
          "Angola",
          "Argentina",
          "Australia",
          "Australia",
          "Australia",
          "Australia",
          "Australia",
          "Australia",
          "Australia",
          "Australia",
          "Bahrain",
          "Barbados",
          "Bahamas",
          "Bangladesh",
          "Belize",
          "Bosnia and Herzegovina",
          "Bolivia",
          "Burma",
          "Benin",
          "Brazil",
          "Bulgaria",
          "Brunei",
          "Canada",
          "Canada",
          "Canada",
          "Canada",
          "Canada",
          "Canada",
          "Canada",
          "Canada",
          "Canada",
          "Canada",
          "Canada",
          "Canada",
          "Canada",
          "Canada",
          "Cambodia",
          "Sri Lanka",
          "Congo (Brazzaville)",
          "Burundi",
          "China",
          "China",
          "China",
          "China",
          "China",
          "China",
          "China",
          "China",
          "China",
          "China",
          "China",
          "China",
          "China",
          "China",
          "China",
          "China",
          "China",
          "China",
          "China",
          "China",
          "China",
          "China",
          "China",
          "China",
          "China",
          "China",
          "China",
          "China",
          "China",
          "China",
          "China",
          "China",
          "China",
          "Afghanistan",
          "Bhutan",
          "Chile",
          "Cameroon",
          "Chad",
          "Comoros",
          "Colombia",
          "Costa Rica",
          "Central African Republic",
          "Cuba",
          "Cabo Verde",
          "Cyprus",
          "Denmark",
          "Denmark",
          "Denmark",
          "Djibouti",
          "Dominica",
          "Dominican Republic",
          "Ecuador",
          "Egypt",
          "Ireland",
          "Equatorial Guinea",
          "Estonia",
          "Eritrea",
          "El Salvador",
          "Ethiopia",
          "Austria",
          "Czechia",
          "Finland",
          "Fiji",
          "France",
          "France",
          "France",
          "France",
          "France",
          "France",
          "France",
          "France",
          "France",
          "France",
          "France",
          "Gambia",
          "Gabon",
          "Georgia",
          "Ghana",
          "Grenada",
          "Germany",
          "Greece",
          "Guatemala",
          "Guinea",
          "Guyana",
          "Haiti",
          "Honduras",
          "Croatia",
          "Hungary",
          "Iceland",
          "India",
          "Iran",
          "Israel",
          "Italy",
          "Cote d'Ivoire",
          "Iraq",
          "Japan",
          "Jamaica",
          "Jordan",
          "Kenya",
          "Kyrgyzstan",
          "Korea, South",
          "Kuwait",
          "Kazakhstan",
          "Laos",
          "Lebanon",
          "Latvia",
          "Belarus",
          "Lithuania",
          "Liberia",
          "Slovakia",
          "Liechtenstein",
          "Libya",
          "Madagascar",
          "Mongolia",
          "Mali",
          "Morocco",
          "Mauritius",
          "Mauritania",
          "Malta",
          "Oman",
          "Maldives",
          "Mexico",
          "Malaysia",
          "Mozambique",
          "Malawi",
          "Niger",
          "Belgium",
          "Andorra",
          "Luxembourg",
          "Monaco",
          "Montenegro",
          "Nigeria",
          "Netherlands",
          "Netherlands",
          "Netherlands",
          "Netherlands",
          "Netherlands",
          "Norway",
          "Nepal",
          "Suriname",
          "Nicaragua",
          "New Zealand",
          "Paraguay",
          "Peru",
          "Pakistan",
          "Poland",
          "Panama",
          "Portugal",
          "Papua New Guinea",
          "Guinea-Bissau",
          "Qatar",
          "Romania",
          "Moldova",
          "Philippines",
          "Russia",
          "Rwanda",
          "Saudi Arabia",
          "Saint Kitts and Nevis",
          "Seychelles",
          "South Africa",
          "Lesotho",
          "Botswana",
          "Senegal",
          "Slovenia",
          "Sierra Leone",
          "Singapore",
          "Somalia",
          "Spain",
          "Saint Lucia",
          "South Sudan",
          "Sweden",
          "Syria",
          "Switzerland",
          "Trinidad and Tobago",
          "Thailand",
          "Tajikistan",
          "Togo",
          "Sao Tome and Principe",
          "Tunisia",
          "Turkey",
          "Uganda",
          "United Kingdom",
          "United Kingdom",
          "United Kingdom",
          "United Kingdom",
          "United Kingdom",
          "United Kingdom",
          "United Kingdom",
          "United Kingdom",
          "United Kingdom",
          "United Kingdom",
          "United Kingdom",
          "Ukraine",
          "US",
          "Burkina Faso",
          "Uruguay",
          "Uzbekistan",
          "Saint Vincent and the Grenadines",
          "Venezuela",
          "Vietnam",
          "Namibia",
          "Yemen",
          "Zambia",
          "Zimbabwe",
          "Indonesia",
          "United Arab Emirates",
          "Timor-Leste",
          "San Marino",
          "Western Sahara",
          "Serbia",
          "Taiwan*"
         ],
         "locationmode": "country names",
         "locations": [
          "Antigua and Barbuda",
          "Algeria",
          "Azerbaijan",
          "Albania",
          "Armenia",
          "Angola",
          "Argentina",
          "Australia",
          "Australia",
          "Australia",
          "Australia",
          "Australia",
          "Australia",
          "Australia",
          "Australia",
          "Bahrain",
          "Barbados",
          "Bahamas",
          "Bangladesh",
          "Belize",
          "Bosnia and Herzegovina",
          "Bolivia",
          "Burma",
          "Benin",
          "Brazil",
          "Bulgaria",
          "Brunei",
          "Canada",
          "Canada",
          "Canada",
          "Canada",
          "Canada",
          "Canada",
          "Canada",
          "Canada",
          "Canada",
          "Canada",
          "Canada",
          "Canada",
          "Canada",
          "Canada",
          "Cambodia",
          "Sri Lanka",
          "Congo (Brazzaville)",
          "Burundi",
          "China",
          "China",
          "China",
          "China",
          "China",
          "China",
          "China",
          "China",
          "China",
          "China",
          "China",
          "China",
          "China",
          "China",
          "China",
          "China",
          "China",
          "China",
          "China",
          "China",
          "China",
          "China",
          "China",
          "China",
          "China",
          "China",
          "China",
          "China",
          "China",
          "China",
          "China",
          "China",
          "China",
          "Afghanistan",
          "Bhutan",
          "Chile",
          "Cameroon",
          "Chad",
          "Comoros",
          "Colombia",
          "Costa Rica",
          "Central African Republic",
          "Cuba",
          "Cabo Verde",
          "Cyprus",
          "Denmark",
          "Denmark",
          "Denmark",
          "Djibouti",
          "Dominica",
          "Dominican Republic",
          "Ecuador",
          "Egypt",
          "Ireland",
          "Equatorial Guinea",
          "Estonia",
          "Eritrea",
          "El Salvador",
          "Ethiopia",
          "Austria",
          "Czechia",
          "Finland",
          "Fiji",
          "France",
          "France",
          "France",
          "France",
          "France",
          "France",
          "France",
          "France",
          "France",
          "France",
          "France",
          "Gambia",
          "Gabon",
          "Georgia",
          "Ghana",
          "Grenada",
          "Germany",
          "Greece",
          "Guatemala",
          "Guinea",
          "Guyana",
          "Haiti",
          "Honduras",
          "Croatia",
          "Hungary",
          "Iceland",
          "India",
          "Iran",
          "Israel",
          "Italy",
          "Cote d'Ivoire",
          "Iraq",
          "Japan",
          "Jamaica",
          "Jordan",
          "Kenya",
          "Kyrgyzstan",
          "Korea, South",
          "Kuwait",
          "Kazakhstan",
          "Laos",
          "Lebanon",
          "Latvia",
          "Belarus",
          "Lithuania",
          "Liberia",
          "Slovakia",
          "Liechtenstein",
          "Libya",
          "Madagascar",
          "Mongolia",
          "Mali",
          "Morocco",
          "Mauritius",
          "Mauritania",
          "Malta",
          "Oman",
          "Maldives",
          "Mexico",
          "Malaysia",
          "Mozambique",
          "Malawi",
          "Niger",
          "Belgium",
          "Andorra",
          "Luxembourg",
          "Monaco",
          "Montenegro",
          "Nigeria",
          "Netherlands",
          "Netherlands",
          "Netherlands",
          "Netherlands",
          "Netherlands",
          "Norway",
          "Nepal",
          "Suriname",
          "Nicaragua",
          "New Zealand",
          "Paraguay",
          "Peru",
          "Pakistan",
          "Poland",
          "Panama",
          "Portugal",
          "Papua New Guinea",
          "Guinea-Bissau",
          "Qatar",
          "Romania",
          "Moldova",
          "Philippines",
          "Russia",
          "Rwanda",
          "Saudi Arabia",
          "Saint Kitts and Nevis",
          "Seychelles",
          "South Africa",
          "Lesotho",
          "Botswana",
          "Senegal",
          "Slovenia",
          "Sierra Leone",
          "Singapore",
          "Somalia",
          "Spain",
          "Saint Lucia",
          "South Sudan",
          "Sweden",
          "Syria",
          "Switzerland",
          "Trinidad and Tobago",
          "Thailand",
          "Tajikistan",
          "Togo",
          "Sao Tome and Principe",
          "Tunisia",
          "Turkey",
          "Uganda",
          "United Kingdom",
          "United Kingdom",
          "United Kingdom",
          "United Kingdom",
          "United Kingdom",
          "United Kingdom",
          "United Kingdom",
          "United Kingdom",
          "United Kingdom",
          "United Kingdom",
          "United Kingdom",
          "Ukraine",
          "US",
          "Burkina Faso",
          "Uruguay",
          "Uzbekistan",
          "Saint Vincent and the Grenadines",
          "Venezuela",
          "Vietnam",
          "Namibia",
          "Yemen",
          "Zambia",
          "Zimbabwe",
          "Indonesia",
          "United Arab Emirates",
          "Timor-Leste",
          "San Marino",
          "Western Sahara",
          "Serbia",
          "Taiwan*"
         ],
         "name": "",
         "type": "choropleth",
         "z": [
          96,
          50214,
          39378,
          12666,
          47667,
          4236,
          652174,
          113,
          4212,
          33,
          1153,
          466,
          230,
          20100,
          665,
          66402,
          189,
          3467,
          352178,
          1635,
          25737,
          131453,
          6959,
          2294,
          4591364,
          19123,
          145,
          16889,
          8304,
          0,
          13,
          1632,
          196,
          272,
          5,
          1087,
          49944,
          57,
          68617,
          1824,
          15,
          275,
          3313,
          5002,
          474,
          991,
          935,
          584,
          396,
          170,
          1807,
          258,
          147,
          171,
          365,
          948,
          1280,
          5046,
          68139,
          1019,
          263,
          665,
          935,
          157,
          265,
          46,
          75,
          18,
          401,
          832,
          975,
          203,
          675,
          239,
          1,
          902,
          209,
          1282,
          39096,
          261,
          448523,
          20598,
          1155,
          470,
          777537,
          66689,
          4802,
          5222,
          5337,
          1618,
          448,
          14,
          23799,
          5407,
          24,
          109269,
          127643,
          102254,
          33444,
          5018,
          2976,
          364,
          27954,
          70422,
          39303,
          53158,
          9195,
          32,
          9738,
          1394,
          3426,
          1290,
          3541,
          26,
          3415,
          23,
          11,
          330,
          483956,
          3540,
          8704,
          3913,
          46062,
          24,
          277412,
          15928,
          86623,
          10387,
          2437,
          8633,
          72306,
          15136,
          19499,
          2419,
          5562663,
          429193,
          193374,
          300897,
          19343,
          327580,
          79773,
          5270,
          5679,
          37218,
          45542,
          23216,
          100683,
          107450,
          23,
          30852,
          1560,
          76104,
          3859,
          1336,
          6931,
          115,
          29446,
          16136,
          313,
          3030,
          105346,
          367,
          7403,
          2814,
          94711,
          9818,
          705263,
          10358,
          7114,
          5739,
          1193,
          105226,
          1681,
          8016,
          197,
          9138,
          57613,
          3665,
          54,
          291,
          594,
          98240,
          13153,
          66632,
          4759,
          5073,
          1824,
          34828,
          768895,
          307418,
          80699,
          107284,
          69663,
          527,
          2324,
          123917,
          114648,
          47446,
          291789,
          1111157,
          4738,
          330798,
          19,
          143,
          663282,
          1424,
          2567,
          14759,
          4558,
          2174,
          57627,
          3465,
          682267,
          27,
          2660,
          89436,
          3877,
          50664,
          4026,
          3514,
          9432,
          1683,
          908,
          11260,
          306302,
          6712,
          3,
          180,
          69,
          210,
          652,
          13,
          355,
          340,
          13,
          672,
          403551,
          185890,
          6896218,
          1907,
          1934,
          52685,
          64,
          68453,
          1068,
          10607,
          2028,
          14389,
          7711,
          252923,
          86447,
          27,
          723,
          10,
          32999,
          509
         ]
        }
       ],
       "layout": {
        "coloraxis": {
         "cmax": 6896220,
         "cmin": 0,
         "colorbar": {
          "title": {
           "text": "9/22/20"
          }
         },
         "colorscale": [
          [
           0,
           "#0d0887"
          ],
          [
           0.1111111111111111,
           "#46039f"
          ],
          [
           0.2222222222222222,
           "#7201a8"
          ],
          [
           0.3333333333333333,
           "#9c179e"
          ],
          [
           0.4444444444444444,
           "#bd3786"
          ],
          [
           0.5555555555555556,
           "#d8576b"
          ],
          [
           0.6666666666666666,
           "#ed7953"
          ],
          [
           0.7777777777777778,
           "#fb9f3a"
          ],
          [
           0.8888888888888888,
           "#fdca26"
          ],
          [
           1,
           "#f0f921"
          ]
         ]
        },
        "geo": {
         "center": {},
         "domain": {
          "x": [
           0,
           1
          ],
          "y": [
           0,
           1
          ]
         },
         "projection": {
          "type": "natural earth"
         }
        },
        "legend": {
         "tracegroupgap": 0
        },
        "template": {
         "data": {
          "bar": [
           {
            "error_x": {
             "color": "#2a3f5f"
            },
            "error_y": {
             "color": "#2a3f5f"
            },
            "marker": {
             "line": {
              "color": "#E5ECF6",
              "width": 0.5
             }
            },
            "type": "bar"
           }
          ],
          "barpolar": [
           {
            "marker": {
             "line": {
              "color": "#E5ECF6",
              "width": 0.5
             }
            },
            "type": "barpolar"
           }
          ],
          "carpet": [
           {
            "aaxis": {
             "endlinecolor": "#2a3f5f",
             "gridcolor": "white",
             "linecolor": "white",
             "minorgridcolor": "white",
             "startlinecolor": "#2a3f5f"
            },
            "baxis": {
             "endlinecolor": "#2a3f5f",
             "gridcolor": "white",
             "linecolor": "white",
             "minorgridcolor": "white",
             "startlinecolor": "#2a3f5f"
            },
            "type": "carpet"
           }
          ],
          "choropleth": [
           {
            "colorbar": {
             "outlinewidth": 0,
             "ticks": ""
            },
            "type": "choropleth"
           }
          ],
          "contour": [
           {
            "colorbar": {
             "outlinewidth": 0,
             "ticks": ""
            },
            "colorscale": [
             [
              0,
              "#0d0887"
             ],
             [
              0.1111111111111111,
              "#46039f"
             ],
             [
              0.2222222222222222,
              "#7201a8"
             ],
             [
              0.3333333333333333,
              "#9c179e"
             ],
             [
              0.4444444444444444,
              "#bd3786"
             ],
             [
              0.5555555555555556,
              "#d8576b"
             ],
             [
              0.6666666666666666,
              "#ed7953"
             ],
             [
              0.7777777777777778,
              "#fb9f3a"
             ],
             [
              0.8888888888888888,
              "#fdca26"
             ],
             [
              1,
              "#f0f921"
             ]
            ],
            "type": "contour"
           }
          ],
          "contourcarpet": [
           {
            "colorbar": {
             "outlinewidth": 0,
             "ticks": ""
            },
            "type": "contourcarpet"
           }
          ],
          "heatmap": [
           {
            "colorbar": {
             "outlinewidth": 0,
             "ticks": ""
            },
            "colorscale": [
             [
              0,
              "#0d0887"
             ],
             [
              0.1111111111111111,
              "#46039f"
             ],
             [
              0.2222222222222222,
              "#7201a8"
             ],
             [
              0.3333333333333333,
              "#9c179e"
             ],
             [
              0.4444444444444444,
              "#bd3786"
             ],
             [
              0.5555555555555556,
              "#d8576b"
             ],
             [
              0.6666666666666666,
              "#ed7953"
             ],
             [
              0.7777777777777778,
              "#fb9f3a"
             ],
             [
              0.8888888888888888,
              "#fdca26"
             ],
             [
              1,
              "#f0f921"
             ]
            ],
            "type": "heatmap"
           }
          ],
          "heatmapgl": [
           {
            "colorbar": {
             "outlinewidth": 0,
             "ticks": ""
            },
            "colorscale": [
             [
              0,
              "#0d0887"
             ],
             [
              0.1111111111111111,
              "#46039f"
             ],
             [
              0.2222222222222222,
              "#7201a8"
             ],
             [
              0.3333333333333333,
              "#9c179e"
             ],
             [
              0.4444444444444444,
              "#bd3786"
             ],
             [
              0.5555555555555556,
              "#d8576b"
             ],
             [
              0.6666666666666666,
              "#ed7953"
             ],
             [
              0.7777777777777778,
              "#fb9f3a"
             ],
             [
              0.8888888888888888,
              "#fdca26"
             ],
             [
              1,
              "#f0f921"
             ]
            ],
            "type": "heatmapgl"
           }
          ],
          "histogram": [
           {
            "marker": {
             "colorbar": {
              "outlinewidth": 0,
              "ticks": ""
             }
            },
            "type": "histogram"
           }
          ],
          "histogram2d": [
           {
            "colorbar": {
             "outlinewidth": 0,
             "ticks": ""
            },
            "colorscale": [
             [
              0,
              "#0d0887"
             ],
             [
              0.1111111111111111,
              "#46039f"
             ],
             [
              0.2222222222222222,
              "#7201a8"
             ],
             [
              0.3333333333333333,
              "#9c179e"
             ],
             [
              0.4444444444444444,
              "#bd3786"
             ],
             [
              0.5555555555555556,
              "#d8576b"
             ],
             [
              0.6666666666666666,
              "#ed7953"
             ],
             [
              0.7777777777777778,
              "#fb9f3a"
             ],
             [
              0.8888888888888888,
              "#fdca26"
             ],
             [
              1,
              "#f0f921"
             ]
            ],
            "type": "histogram2d"
           }
          ],
          "histogram2dcontour": [
           {
            "colorbar": {
             "outlinewidth": 0,
             "ticks": ""
            },
            "colorscale": [
             [
              0,
              "#0d0887"
             ],
             [
              0.1111111111111111,
              "#46039f"
             ],
             [
              0.2222222222222222,
              "#7201a8"
             ],
             [
              0.3333333333333333,
              "#9c179e"
             ],
             [
              0.4444444444444444,
              "#bd3786"
             ],
             [
              0.5555555555555556,
              "#d8576b"
             ],
             [
              0.6666666666666666,
              "#ed7953"
             ],
             [
              0.7777777777777778,
              "#fb9f3a"
             ],
             [
              0.8888888888888888,
              "#fdca26"
             ],
             [
              1,
              "#f0f921"
             ]
            ],
            "type": "histogram2dcontour"
           }
          ],
          "mesh3d": [
           {
            "colorbar": {
             "outlinewidth": 0,
             "ticks": ""
            },
            "type": "mesh3d"
           }
          ],
          "parcoords": [
           {
            "line": {
             "colorbar": {
              "outlinewidth": 0,
              "ticks": ""
             }
            },
            "type": "parcoords"
           }
          ],
          "pie": [
           {
            "automargin": true,
            "type": "pie"
           }
          ],
          "scatter": [
           {
            "marker": {
             "colorbar": {
              "outlinewidth": 0,
              "ticks": ""
             }
            },
            "type": "scatter"
           }
          ],
          "scatter3d": [
           {
            "line": {
             "colorbar": {
              "outlinewidth": 0,
              "ticks": ""
             }
            },
            "marker": {
             "colorbar": {
              "outlinewidth": 0,
              "ticks": ""
             }
            },
            "type": "scatter3d"
           }
          ],
          "scattercarpet": [
           {
            "marker": {
             "colorbar": {
              "outlinewidth": 0,
              "ticks": ""
             }
            },
            "type": "scattercarpet"
           }
          ],
          "scattergeo": [
           {
            "marker": {
             "colorbar": {
              "outlinewidth": 0,
              "ticks": ""
             }
            },
            "type": "scattergeo"
           }
          ],
          "scattergl": [
           {
            "marker": {
             "colorbar": {
              "outlinewidth": 0,
              "ticks": ""
             }
            },
            "type": "scattergl"
           }
          ],
          "scattermapbox": [
           {
            "marker": {
             "colorbar": {
              "outlinewidth": 0,
              "ticks": ""
             }
            },
            "type": "scattermapbox"
           }
          ],
          "scatterpolar": [
           {
            "marker": {
             "colorbar": {
              "outlinewidth": 0,
              "ticks": ""
             }
            },
            "type": "scatterpolar"
           }
          ],
          "scatterpolargl": [
           {
            "marker": {
             "colorbar": {
              "outlinewidth": 0,
              "ticks": ""
             }
            },
            "type": "scatterpolargl"
           }
          ],
          "scatterternary": [
           {
            "marker": {
             "colorbar": {
              "outlinewidth": 0,
              "ticks": ""
             }
            },
            "type": "scatterternary"
           }
          ],
          "surface": [
           {
            "colorbar": {
             "outlinewidth": 0,
             "ticks": ""
            },
            "colorscale": [
             [
              0,
              "#0d0887"
             ],
             [
              0.1111111111111111,
              "#46039f"
             ],
             [
              0.2222222222222222,
              "#7201a8"
             ],
             [
              0.3333333333333333,
              "#9c179e"
             ],
             [
              0.4444444444444444,
              "#bd3786"
             ],
             [
              0.5555555555555556,
              "#d8576b"
             ],
             [
              0.6666666666666666,
              "#ed7953"
             ],
             [
              0.7777777777777778,
              "#fb9f3a"
             ],
             [
              0.8888888888888888,
              "#fdca26"
             ],
             [
              1,
              "#f0f921"
             ]
            ],
            "type": "surface"
           }
          ],
          "table": [
           {
            "cells": {
             "fill": {
              "color": "#EBF0F8"
             },
             "line": {
              "color": "white"
             }
            },
            "header": {
             "fill": {
              "color": "#C8D4E3"
             },
             "line": {
              "color": "white"
             }
            },
            "type": "table"
           }
          ]
         },
         "layout": {
          "annotationdefaults": {
           "arrowcolor": "#2a3f5f",
           "arrowhead": 0,
           "arrowwidth": 1
          },
          "coloraxis": {
           "colorbar": {
            "outlinewidth": 0,
            "ticks": ""
           }
          },
          "colorscale": {
           "diverging": [
            [
             0,
             "#8e0152"
            ],
            [
             0.1,
             "#c51b7d"
            ],
            [
             0.2,
             "#de77ae"
            ],
            [
             0.3,
             "#f1b6da"
            ],
            [
             0.4,
             "#fde0ef"
            ],
            [
             0.5,
             "#f7f7f7"
            ],
            [
             0.6,
             "#e6f5d0"
            ],
            [
             0.7,
             "#b8e186"
            ],
            [
             0.8,
             "#7fbc41"
            ],
            [
             0.9,
             "#4d9221"
            ],
            [
             1,
             "#276419"
            ]
           ],
           "sequential": [
            [
             0,
             "#0d0887"
            ],
            [
             0.1111111111111111,
             "#46039f"
            ],
            [
             0.2222222222222222,
             "#7201a8"
            ],
            [
             0.3333333333333333,
             "#9c179e"
            ],
            [
             0.4444444444444444,
             "#bd3786"
            ],
            [
             0.5555555555555556,
             "#d8576b"
            ],
            [
             0.6666666666666666,
             "#ed7953"
            ],
            [
             0.7777777777777778,
             "#fb9f3a"
            ],
            [
             0.8888888888888888,
             "#fdca26"
            ],
            [
             1,
             "#f0f921"
            ]
           ],
           "sequentialminus": [
            [
             0,
             "#0d0887"
            ],
            [
             0.1111111111111111,
             "#46039f"
            ],
            [
             0.2222222222222222,
             "#7201a8"
            ],
            [
             0.3333333333333333,
             "#9c179e"
            ],
            [
             0.4444444444444444,
             "#bd3786"
            ],
            [
             0.5555555555555556,
             "#d8576b"
            ],
            [
             0.6666666666666666,
             "#ed7953"
            ],
            [
             0.7777777777777778,
             "#fb9f3a"
            ],
            [
             0.8888888888888888,
             "#fdca26"
            ],
            [
             1,
             "#f0f921"
            ]
           ]
          },
          "colorway": [
           "#636efa",
           "#EF553B",
           "#00cc96",
           "#ab63fa",
           "#FFA15A",
           "#19d3f3",
           "#FF6692",
           "#B6E880",
           "#FF97FF",
           "#FECB52"
          ],
          "font": {
           "color": "#2a3f5f"
          },
          "geo": {
           "bgcolor": "white",
           "lakecolor": "white",
           "landcolor": "#E5ECF6",
           "showlakes": true,
           "showland": true,
           "subunitcolor": "white"
          },
          "hoverlabel": {
           "align": "left"
          },
          "hovermode": "closest",
          "mapbox": {
           "style": "light"
          },
          "paper_bgcolor": "white",
          "plot_bgcolor": "#E5ECF6",
          "polar": {
           "angularaxis": {
            "gridcolor": "white",
            "linecolor": "white",
            "ticks": ""
           },
           "bgcolor": "#E5ECF6",
           "radialaxis": {
            "gridcolor": "white",
            "linecolor": "white",
            "ticks": ""
           }
          },
          "scene": {
           "xaxis": {
            "backgroundcolor": "#E5ECF6",
            "gridcolor": "white",
            "gridwidth": 2,
            "linecolor": "white",
            "showbackground": true,
            "ticks": "",
            "zerolinecolor": "white"
           },
           "yaxis": {
            "backgroundcolor": "#E5ECF6",
            "gridcolor": "white",
            "gridwidth": 2,
            "linecolor": "white",
            "showbackground": true,
            "ticks": "",
            "zerolinecolor": "white"
           },
           "zaxis": {
            "backgroundcolor": "#E5ECF6",
            "gridcolor": "white",
            "gridwidth": 2,
            "linecolor": "white",
            "showbackground": true,
            "ticks": "",
            "zerolinecolor": "white"
           }
          },
          "shapedefaults": {
           "line": {
            "color": "#2a3f5f"
           }
          },
          "ternary": {
           "aaxis": {
            "gridcolor": "white",
            "linecolor": "white",
            "ticks": ""
           },
           "baxis": {
            "gridcolor": "white",
            "linecolor": "white",
            "ticks": ""
           },
           "bgcolor": "#E5ECF6",
           "caxis": {
            "gridcolor": "white",
            "linecolor": "white",
            "ticks": ""
           }
          },
          "title": {
           "x": 0.05
          },
          "xaxis": {
           "automargin": true,
           "gridcolor": "white",
           "linecolor": "white",
           "ticks": "",
           "title": {
            "standoff": 15
           },
           "zerolinecolor": "white",
           "zerolinewidth": 2
          },
          "yaxis": {
           "automargin": true,
           "gridcolor": "white",
           "linecolor": "white",
           "ticks": "",
           "title": {
            "standoff": 15
           },
           "zerolinecolor": "white",
           "zerolinewidth": 2
          }
         }
        },
        "title": {
         "text": "COVID-19 na swiecie"
        }
       }
      },
      "text/html": [
       "<div>                            <div id=\"725cc24f-c7e0-4ac9-84a3-36e2158ebca9\" class=\"plotly-graph-div\" style=\"height:525px; width:100%;\"></div>            <script type=\"text/javascript\">                require([\"plotly\"], function(Plotly) {                    window.PLOTLYENV=window.PLOTLYENV || {};                                    if (document.getElementById(\"725cc24f-c7e0-4ac9-84a3-36e2158ebca9\")) {                    Plotly.newPlot(                        \"725cc24f-c7e0-4ac9-84a3-36e2158ebca9\",                        [{\"coloraxis\": \"coloraxis\", \"geo\": \"geo\", \"hovertemplate\": \"<b>%{hovertext}</b><br><br>NAME=%{location}<br>9/22/20=%{z}<extra></extra>\", \"hovertext\": [\"Antigua and Barbuda\", \"Algeria\", \"Azerbaijan\", \"Albania\", \"Armenia\", \"Angola\", \"Argentina\", \"Australia\", \"Australia\", \"Australia\", \"Australia\", \"Australia\", \"Australia\", \"Australia\", \"Australia\", \"Bahrain\", \"Barbados\", \"Bahamas\", \"Bangladesh\", \"Belize\", \"Bosnia and Herzegovina\", \"Bolivia\", \"Burma\", \"Benin\", \"Brazil\", \"Bulgaria\", \"Brunei\", \"Canada\", \"Canada\", \"Canada\", \"Canada\", \"Canada\", \"Canada\", \"Canada\", \"Canada\", \"Canada\", \"Canada\", \"Canada\", \"Canada\", \"Canada\", \"Canada\", \"Cambodia\", \"Sri Lanka\", \"Congo (Brazzaville)\", \"Burundi\", \"China\", \"China\", \"China\", \"China\", \"China\", \"China\", \"China\", \"China\", \"China\", \"China\", \"China\", \"China\", \"China\", \"China\", \"China\", \"China\", \"China\", \"China\", \"China\", \"China\", \"China\", \"China\", \"China\", \"China\", \"China\", \"China\", \"China\", \"China\", \"China\", \"China\", \"China\", \"China\", \"China\", \"Afghanistan\", \"Bhutan\", \"Chile\", \"Cameroon\", \"Chad\", \"Comoros\", \"Colombia\", \"Costa Rica\", \"Central African Republic\", \"Cuba\", \"Cabo Verde\", \"Cyprus\", \"Denmark\", \"Denmark\", \"Denmark\", \"Djibouti\", \"Dominica\", \"Dominican Republic\", \"Ecuador\", \"Egypt\", \"Ireland\", \"Equatorial Guinea\", \"Estonia\", \"Eritrea\", \"El Salvador\", \"Ethiopia\", \"Austria\", \"Czechia\", \"Finland\", \"Fiji\", \"France\", \"France\", \"France\", \"France\", \"France\", \"France\", \"France\", \"France\", \"France\", \"France\", \"France\", \"Gambia\", \"Gabon\", \"Georgia\", \"Ghana\", \"Grenada\", \"Germany\", \"Greece\", \"Guatemala\", \"Guinea\", \"Guyana\", \"Haiti\", \"Honduras\", \"Croatia\", \"Hungary\", \"Iceland\", \"India\", \"Iran\", \"Israel\", \"Italy\", \"Cote d'Ivoire\", \"Iraq\", \"Japan\", \"Jamaica\", \"Jordan\", \"Kenya\", \"Kyrgyzstan\", \"Korea, South\", \"Kuwait\", \"Kazakhstan\", \"Laos\", \"Lebanon\", \"Latvia\", \"Belarus\", \"Lithuania\", \"Liberia\", \"Slovakia\", \"Liechtenstein\", \"Libya\", \"Madagascar\", \"Mongolia\", \"Mali\", \"Morocco\", \"Mauritius\", \"Mauritania\", \"Malta\", \"Oman\", \"Maldives\", \"Mexico\", \"Malaysia\", \"Mozambique\", \"Malawi\", \"Niger\", \"Belgium\", \"Andorra\", \"Luxembourg\", \"Monaco\", \"Montenegro\", \"Nigeria\", \"Netherlands\", \"Netherlands\", \"Netherlands\", \"Netherlands\", \"Netherlands\", \"Norway\", \"Nepal\", \"Suriname\", \"Nicaragua\", \"New Zealand\", \"Paraguay\", \"Peru\", \"Pakistan\", \"Poland\", \"Panama\", \"Portugal\", \"Papua New Guinea\", \"Guinea-Bissau\", \"Qatar\", \"Romania\", \"Moldova\", \"Philippines\", \"Russia\", \"Rwanda\", \"Saudi Arabia\", \"Saint Kitts and Nevis\", \"Seychelles\", \"South Africa\", \"Lesotho\", \"Botswana\", \"Senegal\", \"Slovenia\", \"Sierra Leone\", \"Singapore\", \"Somalia\", \"Spain\", \"Saint Lucia\", \"South Sudan\", \"Sweden\", \"Syria\", \"Switzerland\", \"Trinidad and Tobago\", \"Thailand\", \"Tajikistan\", \"Togo\", \"Sao Tome and Principe\", \"Tunisia\", \"Turkey\", \"Uganda\", \"United Kingdom\", \"United Kingdom\", \"United Kingdom\", \"United Kingdom\", \"United Kingdom\", \"United Kingdom\", \"United Kingdom\", \"United Kingdom\", \"United Kingdom\", \"United Kingdom\", \"United Kingdom\", \"Ukraine\", \"US\", \"Burkina Faso\", \"Uruguay\", \"Uzbekistan\", \"Saint Vincent and the Grenadines\", \"Venezuela\", \"Vietnam\", \"Namibia\", \"Yemen\", \"Zambia\", \"Zimbabwe\", \"Indonesia\", \"United Arab Emirates\", \"Timor-Leste\", \"San Marino\", \"Western Sahara\", \"Serbia\", \"Taiwan*\"], \"locationmode\": \"country names\", \"locations\": [\"Antigua and Barbuda\", \"Algeria\", \"Azerbaijan\", \"Albania\", \"Armenia\", \"Angola\", \"Argentina\", \"Australia\", \"Australia\", \"Australia\", \"Australia\", \"Australia\", \"Australia\", \"Australia\", \"Australia\", \"Bahrain\", \"Barbados\", \"Bahamas\", \"Bangladesh\", \"Belize\", \"Bosnia and Herzegovina\", \"Bolivia\", \"Burma\", \"Benin\", \"Brazil\", \"Bulgaria\", \"Brunei\", \"Canada\", \"Canada\", \"Canada\", \"Canada\", \"Canada\", \"Canada\", \"Canada\", \"Canada\", \"Canada\", \"Canada\", \"Canada\", \"Canada\", \"Canada\", \"Canada\", \"Cambodia\", \"Sri Lanka\", \"Congo (Brazzaville)\", \"Burundi\", \"China\", \"China\", \"China\", \"China\", \"China\", \"China\", \"China\", \"China\", \"China\", \"China\", \"China\", \"China\", \"China\", \"China\", \"China\", \"China\", \"China\", \"China\", \"China\", \"China\", \"China\", \"China\", \"China\", \"China\", \"China\", \"China\", \"China\", \"China\", \"China\", \"China\", \"China\", \"China\", \"China\", \"Afghanistan\", \"Bhutan\", \"Chile\", \"Cameroon\", \"Chad\", \"Comoros\", \"Colombia\", \"Costa Rica\", \"Central African Republic\", \"Cuba\", \"Cabo Verde\", \"Cyprus\", \"Denmark\", \"Denmark\", \"Denmark\", \"Djibouti\", \"Dominica\", \"Dominican Republic\", \"Ecuador\", \"Egypt\", \"Ireland\", \"Equatorial Guinea\", \"Estonia\", \"Eritrea\", \"El Salvador\", \"Ethiopia\", \"Austria\", \"Czechia\", \"Finland\", \"Fiji\", \"France\", \"France\", \"France\", \"France\", \"France\", \"France\", \"France\", \"France\", \"France\", \"France\", \"France\", \"Gambia\", \"Gabon\", \"Georgia\", \"Ghana\", \"Grenada\", \"Germany\", \"Greece\", \"Guatemala\", \"Guinea\", \"Guyana\", \"Haiti\", \"Honduras\", \"Croatia\", \"Hungary\", \"Iceland\", \"India\", \"Iran\", \"Israel\", \"Italy\", \"Cote d'Ivoire\", \"Iraq\", \"Japan\", \"Jamaica\", \"Jordan\", \"Kenya\", \"Kyrgyzstan\", \"Korea, South\", \"Kuwait\", \"Kazakhstan\", \"Laos\", \"Lebanon\", \"Latvia\", \"Belarus\", \"Lithuania\", \"Liberia\", \"Slovakia\", \"Liechtenstein\", \"Libya\", \"Madagascar\", \"Mongolia\", \"Mali\", \"Morocco\", \"Mauritius\", \"Mauritania\", \"Malta\", \"Oman\", \"Maldives\", \"Mexico\", \"Malaysia\", \"Mozambique\", \"Malawi\", \"Niger\", \"Belgium\", \"Andorra\", \"Luxembourg\", \"Monaco\", \"Montenegro\", \"Nigeria\", \"Netherlands\", \"Netherlands\", \"Netherlands\", \"Netherlands\", \"Netherlands\", \"Norway\", \"Nepal\", \"Suriname\", \"Nicaragua\", \"New Zealand\", \"Paraguay\", \"Peru\", \"Pakistan\", \"Poland\", \"Panama\", \"Portugal\", \"Papua New Guinea\", \"Guinea-Bissau\", \"Qatar\", \"Romania\", \"Moldova\", \"Philippines\", \"Russia\", \"Rwanda\", \"Saudi Arabia\", \"Saint Kitts and Nevis\", \"Seychelles\", \"South Africa\", \"Lesotho\", \"Botswana\", \"Senegal\", \"Slovenia\", \"Sierra Leone\", \"Singapore\", \"Somalia\", \"Spain\", \"Saint Lucia\", \"South Sudan\", \"Sweden\", \"Syria\", \"Switzerland\", \"Trinidad and Tobago\", \"Thailand\", \"Tajikistan\", \"Togo\", \"Sao Tome and Principe\", \"Tunisia\", \"Turkey\", \"Uganda\", \"United Kingdom\", \"United Kingdom\", \"United Kingdom\", \"United Kingdom\", \"United Kingdom\", \"United Kingdom\", \"United Kingdom\", \"United Kingdom\", \"United Kingdom\", \"United Kingdom\", \"United Kingdom\", \"Ukraine\", \"US\", \"Burkina Faso\", \"Uruguay\", \"Uzbekistan\", \"Saint Vincent and the Grenadines\", \"Venezuela\", \"Vietnam\", \"Namibia\", \"Yemen\", \"Zambia\", \"Zimbabwe\", \"Indonesia\", \"United Arab Emirates\", \"Timor-Leste\", \"San Marino\", \"Western Sahara\", \"Serbia\", \"Taiwan*\"], \"name\": \"\", \"type\": \"choropleth\", \"z\": [96, 50214, 39378, 12666, 47667, 4236, 652174, 113, 4212, 33, 1153, 466, 230, 20100, 665, 66402, 189, 3467, 352178, 1635, 25737, 131453, 6959, 2294, 4591364, 19123, 145, 16889, 8304, 0, 13, 1632, 196, 272, 5, 1087, 49944, 57, 68617, 1824, 15, 275, 3313, 5002, 474, 991, 935, 584, 396, 170, 1807, 258, 147, 171, 365, 948, 1280, 5046, 68139, 1019, 263, 665, 935, 157, 265, 46, 75, 18, 401, 832, 975, 203, 675, 239, 1, 902, 209, 1282, 39096, 261, 448523, 20598, 1155, 470, 777537, 66689, 4802, 5222, 5337, 1618, 448, 14, 23799, 5407, 24, 109269, 127643, 102254, 33444, 5018, 2976, 364, 27954, 70422, 39303, 53158, 9195, 32, 9738, 1394, 3426, 1290, 3541, 26, 3415, 23, 11, 330, 483956, 3540, 8704, 3913, 46062, 24, 277412, 15928, 86623, 10387, 2437, 8633, 72306, 15136, 19499, 2419, 5562663, 429193, 193374, 300897, 19343, 327580, 79773, 5270, 5679, 37218, 45542, 23216, 100683, 107450, 23, 30852, 1560, 76104, 3859, 1336, 6931, 115, 29446, 16136, 313, 3030, 105346, 367, 7403, 2814, 94711, 9818, 705263, 10358, 7114, 5739, 1193, 105226, 1681, 8016, 197, 9138, 57613, 3665, 54, 291, 594, 98240, 13153, 66632, 4759, 5073, 1824, 34828, 768895, 307418, 80699, 107284, 69663, 527, 2324, 123917, 114648, 47446, 291789, 1111157, 4738, 330798, 19, 143, 663282, 1424, 2567, 14759, 4558, 2174, 57627, 3465, 682267, 27, 2660, 89436, 3877, 50664, 4026, 3514, 9432, 1683, 908, 11260, 306302, 6712, 3, 180, 69, 210, 652, 13, 355, 340, 13, 672, 403551, 185890, 6896218, 1907, 1934, 52685, 64, 68453, 1068, 10607, 2028, 14389, 7711, 252923, 86447, 27, 723, 10, 32999, 509]}],                        {\"coloraxis\": {\"cmax\": 6896220, \"cmin\": 0, \"colorbar\": {\"title\": {\"text\": \"9/22/20\"}}, \"colorscale\": [[0.0, \"#0d0887\"], [0.1111111111111111, \"#46039f\"], [0.2222222222222222, \"#7201a8\"], [0.3333333333333333, \"#9c179e\"], [0.4444444444444444, \"#bd3786\"], [0.5555555555555556, \"#d8576b\"], [0.6666666666666666, \"#ed7953\"], [0.7777777777777778, \"#fb9f3a\"], [0.8888888888888888, \"#fdca26\"], [1.0, \"#f0f921\"]]}, \"geo\": {\"center\": {}, \"domain\": {\"x\": [0.0, 1.0], \"y\": [0.0, 1.0]}, \"projection\": {\"type\": \"natural earth\"}}, \"legend\": {\"tracegroupgap\": 0}, \"template\": {\"data\": {\"bar\": [{\"error_x\": {\"color\": \"#2a3f5f\"}, \"error_y\": {\"color\": \"#2a3f5f\"}, \"marker\": {\"line\": {\"color\": \"#E5ECF6\", \"width\": 0.5}}, \"type\": \"bar\"}], \"barpolar\": [{\"marker\": {\"line\": {\"color\": \"#E5ECF6\", \"width\": 0.5}}, \"type\": \"barpolar\"}], \"carpet\": [{\"aaxis\": {\"endlinecolor\": \"#2a3f5f\", \"gridcolor\": \"white\", \"linecolor\": \"white\", \"minorgridcolor\": \"white\", \"startlinecolor\": \"#2a3f5f\"}, \"baxis\": {\"endlinecolor\": \"#2a3f5f\", \"gridcolor\": \"white\", \"linecolor\": \"white\", \"minorgridcolor\": \"white\", \"startlinecolor\": \"#2a3f5f\"}, \"type\": \"carpet\"}], \"choropleth\": [{\"colorbar\": {\"outlinewidth\": 0, \"ticks\": \"\"}, \"type\": \"choropleth\"}], \"contour\": [{\"colorbar\": {\"outlinewidth\": 0, \"ticks\": \"\"}, \"colorscale\": [[0.0, \"#0d0887\"], [0.1111111111111111, \"#46039f\"], [0.2222222222222222, \"#7201a8\"], [0.3333333333333333, \"#9c179e\"], [0.4444444444444444, \"#bd3786\"], [0.5555555555555556, \"#d8576b\"], [0.6666666666666666, \"#ed7953\"], [0.7777777777777778, \"#fb9f3a\"], [0.8888888888888888, \"#fdca26\"], [1.0, \"#f0f921\"]], \"type\": \"contour\"}], \"contourcarpet\": [{\"colorbar\": {\"outlinewidth\": 0, \"ticks\": \"\"}, \"type\": \"contourcarpet\"}], \"heatmap\": [{\"colorbar\": {\"outlinewidth\": 0, \"ticks\": \"\"}, \"colorscale\": [[0.0, \"#0d0887\"], [0.1111111111111111, \"#46039f\"], [0.2222222222222222, \"#7201a8\"], [0.3333333333333333, \"#9c179e\"], [0.4444444444444444, \"#bd3786\"], [0.5555555555555556, \"#d8576b\"], [0.6666666666666666, \"#ed7953\"], [0.7777777777777778, \"#fb9f3a\"], [0.8888888888888888, \"#fdca26\"], [1.0, \"#f0f921\"]], \"type\": \"heatmap\"}], \"heatmapgl\": [{\"colorbar\": {\"outlinewidth\": 0, \"ticks\": \"\"}, \"colorscale\": [[0.0, \"#0d0887\"], [0.1111111111111111, \"#46039f\"], [0.2222222222222222, \"#7201a8\"], [0.3333333333333333, \"#9c179e\"], [0.4444444444444444, \"#bd3786\"], [0.5555555555555556, \"#d8576b\"], [0.6666666666666666, \"#ed7953\"], [0.7777777777777778, \"#fb9f3a\"], [0.8888888888888888, \"#fdca26\"], [1.0, \"#f0f921\"]], \"type\": \"heatmapgl\"}], \"histogram\": [{\"marker\": {\"colorbar\": {\"outlinewidth\": 0, \"ticks\": \"\"}}, \"type\": \"histogram\"}], \"histogram2d\": [{\"colorbar\": {\"outlinewidth\": 0, \"ticks\": \"\"}, \"colorscale\": [[0.0, \"#0d0887\"], [0.1111111111111111, \"#46039f\"], [0.2222222222222222, \"#7201a8\"], [0.3333333333333333, \"#9c179e\"], [0.4444444444444444, \"#bd3786\"], [0.5555555555555556, \"#d8576b\"], [0.6666666666666666, \"#ed7953\"], [0.7777777777777778, \"#fb9f3a\"], [0.8888888888888888, \"#fdca26\"], [1.0, \"#f0f921\"]], \"type\": \"histogram2d\"}], \"histogram2dcontour\": [{\"colorbar\": {\"outlinewidth\": 0, \"ticks\": \"\"}, \"colorscale\": [[0.0, \"#0d0887\"], [0.1111111111111111, \"#46039f\"], [0.2222222222222222, \"#7201a8\"], [0.3333333333333333, \"#9c179e\"], [0.4444444444444444, \"#bd3786\"], [0.5555555555555556, \"#d8576b\"], [0.6666666666666666, \"#ed7953\"], [0.7777777777777778, \"#fb9f3a\"], [0.8888888888888888, \"#fdca26\"], [1.0, \"#f0f921\"]], \"type\": \"histogram2dcontour\"}], \"mesh3d\": [{\"colorbar\": {\"outlinewidth\": 0, \"ticks\": \"\"}, \"type\": \"mesh3d\"}], \"parcoords\": [{\"line\": {\"colorbar\": {\"outlinewidth\": 0, \"ticks\": \"\"}}, \"type\": \"parcoords\"}], \"pie\": [{\"automargin\": true, \"type\": \"pie\"}], \"scatter\": [{\"marker\": {\"colorbar\": {\"outlinewidth\": 0, \"ticks\": \"\"}}, \"type\": \"scatter\"}], \"scatter3d\": [{\"line\": {\"colorbar\": {\"outlinewidth\": 0, \"ticks\": \"\"}}, \"marker\": {\"colorbar\": {\"outlinewidth\": 0, \"ticks\": \"\"}}, \"type\": \"scatter3d\"}], \"scattercarpet\": [{\"marker\": {\"colorbar\": {\"outlinewidth\": 0, \"ticks\": \"\"}}, \"type\": \"scattercarpet\"}], \"scattergeo\": [{\"marker\": {\"colorbar\": {\"outlinewidth\": 0, \"ticks\": \"\"}}, \"type\": \"scattergeo\"}], \"scattergl\": [{\"marker\": {\"colorbar\": {\"outlinewidth\": 0, \"ticks\": \"\"}}, \"type\": \"scattergl\"}], \"scattermapbox\": [{\"marker\": {\"colorbar\": {\"outlinewidth\": 0, \"ticks\": \"\"}}, \"type\": \"scattermapbox\"}], \"scatterpolar\": [{\"marker\": {\"colorbar\": {\"outlinewidth\": 0, \"ticks\": \"\"}}, \"type\": \"scatterpolar\"}], \"scatterpolargl\": [{\"marker\": {\"colorbar\": {\"outlinewidth\": 0, \"ticks\": \"\"}}, \"type\": \"scatterpolargl\"}], \"scatterternary\": [{\"marker\": {\"colorbar\": {\"outlinewidth\": 0, \"ticks\": \"\"}}, \"type\": \"scatterternary\"}], \"surface\": [{\"colorbar\": {\"outlinewidth\": 0, \"ticks\": \"\"}, \"colorscale\": [[0.0, \"#0d0887\"], [0.1111111111111111, \"#46039f\"], [0.2222222222222222, \"#7201a8\"], [0.3333333333333333, \"#9c179e\"], [0.4444444444444444, \"#bd3786\"], [0.5555555555555556, \"#d8576b\"], [0.6666666666666666, \"#ed7953\"], [0.7777777777777778, \"#fb9f3a\"], [0.8888888888888888, \"#fdca26\"], [1.0, \"#f0f921\"]], \"type\": \"surface\"}], \"table\": [{\"cells\": {\"fill\": {\"color\": \"#EBF0F8\"}, \"line\": {\"color\": \"white\"}}, \"header\": {\"fill\": {\"color\": \"#C8D4E3\"}, \"line\": {\"color\": \"white\"}}, \"type\": \"table\"}]}, \"layout\": {\"annotationdefaults\": {\"arrowcolor\": \"#2a3f5f\", \"arrowhead\": 0, \"arrowwidth\": 1}, \"coloraxis\": {\"colorbar\": {\"outlinewidth\": 0, \"ticks\": \"\"}}, \"colorscale\": {\"diverging\": [[0, \"#8e0152\"], [0.1, \"#c51b7d\"], [0.2, \"#de77ae\"], [0.3, \"#f1b6da\"], [0.4, \"#fde0ef\"], [0.5, \"#f7f7f7\"], [0.6, \"#e6f5d0\"], [0.7, \"#b8e186\"], [0.8, \"#7fbc41\"], [0.9, \"#4d9221\"], [1, \"#276419\"]], \"sequential\": [[0.0, \"#0d0887\"], [0.1111111111111111, \"#46039f\"], [0.2222222222222222, \"#7201a8\"], [0.3333333333333333, \"#9c179e\"], [0.4444444444444444, \"#bd3786\"], [0.5555555555555556, \"#d8576b\"], [0.6666666666666666, \"#ed7953\"], [0.7777777777777778, \"#fb9f3a\"], [0.8888888888888888, \"#fdca26\"], [1.0, \"#f0f921\"]], \"sequentialminus\": [[0.0, \"#0d0887\"], [0.1111111111111111, \"#46039f\"], [0.2222222222222222, \"#7201a8\"], [0.3333333333333333, \"#9c179e\"], [0.4444444444444444, \"#bd3786\"], [0.5555555555555556, \"#d8576b\"], [0.6666666666666666, \"#ed7953\"], [0.7777777777777778, \"#fb9f3a\"], [0.8888888888888888, \"#fdca26\"], [1.0, \"#f0f921\"]]}, \"colorway\": [\"#636efa\", \"#EF553B\", \"#00cc96\", \"#ab63fa\", \"#FFA15A\", \"#19d3f3\", \"#FF6692\", \"#B6E880\", \"#FF97FF\", \"#FECB52\"], \"font\": {\"color\": \"#2a3f5f\"}, \"geo\": {\"bgcolor\": \"white\", \"lakecolor\": \"white\", \"landcolor\": \"#E5ECF6\", \"showlakes\": true, \"showland\": true, \"subunitcolor\": \"white\"}, \"hoverlabel\": {\"align\": \"left\"}, \"hovermode\": \"closest\", \"mapbox\": {\"style\": \"light\"}, \"paper_bgcolor\": \"white\", \"plot_bgcolor\": \"#E5ECF6\", \"polar\": {\"angularaxis\": {\"gridcolor\": \"white\", \"linecolor\": \"white\", \"ticks\": \"\"}, \"bgcolor\": \"#E5ECF6\", \"radialaxis\": {\"gridcolor\": \"white\", \"linecolor\": \"white\", \"ticks\": \"\"}}, \"scene\": {\"xaxis\": {\"backgroundcolor\": \"#E5ECF6\", \"gridcolor\": \"white\", \"gridwidth\": 2, \"linecolor\": \"white\", \"showbackground\": true, \"ticks\": \"\", \"zerolinecolor\": \"white\"}, \"yaxis\": {\"backgroundcolor\": \"#E5ECF6\", \"gridcolor\": \"white\", \"gridwidth\": 2, \"linecolor\": \"white\", \"showbackground\": true, \"ticks\": \"\", \"zerolinecolor\": \"white\"}, \"zaxis\": {\"backgroundcolor\": \"#E5ECF6\", \"gridcolor\": \"white\", \"gridwidth\": 2, \"linecolor\": \"white\", \"showbackground\": true, \"ticks\": \"\", \"zerolinecolor\": \"white\"}}, \"shapedefaults\": {\"line\": {\"color\": \"#2a3f5f\"}}, \"ternary\": {\"aaxis\": {\"gridcolor\": \"white\", \"linecolor\": \"white\", \"ticks\": \"\"}, \"baxis\": {\"gridcolor\": \"white\", \"linecolor\": \"white\", \"ticks\": \"\"}, \"bgcolor\": \"#E5ECF6\", \"caxis\": {\"gridcolor\": \"white\", \"linecolor\": \"white\", \"ticks\": \"\"}}, \"title\": {\"x\": 0.05}, \"xaxis\": {\"automargin\": true, \"gridcolor\": \"white\", \"linecolor\": \"white\", \"ticks\": \"\", \"title\": {\"standoff\": 15}, \"zerolinecolor\": \"white\", \"zerolinewidth\": 2}, \"yaxis\": {\"automargin\": true, \"gridcolor\": \"white\", \"linecolor\": \"white\", \"ticks\": \"\", \"title\": {\"standoff\": 15}, \"zerolinecolor\": \"white\", \"zerolinewidth\": 2}}}, \"title\": {\"text\": \"COVID-19 na swiecie\"}},                        {\"responsive\": true}                    ).then(function(){\n",
       "                            \n",
       "var gd = document.getElementById('725cc24f-c7e0-4ac9-84a3-36e2158ebca9');\n",
       "var x = new MutationObserver(function (mutations, observer) {{\n",
       "        var display = window.getComputedStyle(gd).display;\n",
       "        if (!display || display === 'none') {{\n",
       "            console.log([gd, 'removed!']);\n",
       "            Plotly.purge(gd);\n",
       "            observer.disconnect();\n",
       "        }}\n",
       "}});\n",
       "\n",
       "// Listen for the removal of the full notebook cells\n",
       "var notebookContainer = gd.closest('#notebook-container');\n",
       "if (notebookContainer) {{\n",
       "    x.observe(notebookContainer, {childList: true});\n",
       "}}\n",
       "\n",
       "// Listen for the clearing of the current output cell\n",
       "var outputEl = gd.closest('.output');\n",
       "if (outputEl) {{\n",
       "    x.observe(outputEl, {childList: true});\n",
       "}}\n",
       "\n",
       "                        })                };                });            </script>        </div>"
      ]
     },
     "metadata": {},
     "output_type": "display_data"
    }
   ],
   "source": [
    "fig.show()"
   ]
  },
  {
   "cell_type": "code",
   "execution_count": null,
   "metadata": {},
   "outputs": [],
   "source": []
  }
 ],
 "metadata": {
  "kernelspec": {
   "display_name": "Python 3",
   "language": "python",
   "name": "python3"
  },
  "language_info": {
   "codemirror_mode": {
    "name": "ipython",
    "version": 3
   },
   "file_extension": ".py",
   "mimetype": "text/x-python",
   "name": "python",
   "nbconvert_exporter": "python",
   "pygments_lexer": "ipython3",
   "version": "3.8.0"
  }
 },
 "nbformat": 4,
 "nbformat_minor": 4
}
