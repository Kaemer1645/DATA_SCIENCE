{
 "cells": [
  {
   "cell_type": "code",
   "execution_count": 100,
   "metadata": {},
   "outputs": [],
   "source": [
    "#Przyklad rzutu monetą jako sprawdzenie hipotezy czy jest ona \"uczciwa\""
   ]
  },
  {
   "cell_type": "code",
   "execution_count": 101,
   "metadata": {},
   "outputs": [],
   "source": [
    "#jako ze kazdy rzut jest probą Bernoulliego a wiec X (liczba wyrzuconych orlow) jest zmienna losowa o rozkladzie \n",
    "#dwumianowym (n,p), zgodnie z tym mozemy to przyblizyc za pomoca rozkladu normalnego"
   ]
  },
  {
   "cell_type": "code",
   "execution_count": 102,
   "metadata": {},
   "outputs": [],
   "source": [
    "from typing import Tuple\n",
    "import math\n",
    "\n",
    "def normal_approximation_to_binomial(n: int, p: float) -> Tuple[float, float]:\n",
    "    \"\"\"Okresla wartosc mi i sigma\"\"\"\n",
    "    mi = p * n\n",
    "    sigma = math.sqrt(p * (1 - p) * n)\n",
    "    return mi, sigma"
   ]
  },
  {
   "cell_type": "code",
   "execution_count": 103,
   "metadata": {},
   "outputs": [],
   "source": [
    "#w przypadku gdy zmienna losowa charakteryzuje sie rozkladem normalnym, to mozemy skorzystac z funkcji\n",
    "#normal_cdf aby okreslic prawdopodobienstwo tego, ze dana wartosc znajduje sie w obrebie jakiegos interwalu lub poza nim"
   ]
  },
  {
   "cell_type": "code",
   "execution_count": 104,
   "metadata": {},
   "outputs": [],
   "source": [
    "from scratch.probability import normal_cdf"
   ]
  },
  {
   "cell_type": "code",
   "execution_count": 105,
   "metadata": {},
   "outputs": [],
   "source": [
    "from scratch.probability import normal_cdf\n",
    "# Funkcja dystrubuanty rozkladu normalnego okresla prawdodpobienstwo tego, ze zmienna znajduje sie ponizej wartosci progowej\n",
    "normal_probability_below = normal_cdf\n",
    "\n",
    "#jezeli nie znajduje sie nad wartoscia progowa, to znajduje sie pod nia\n",
    "def normal_probability_above(lo: float,\n",
    "                            mi: float = 0,\n",
    "                            sigma: float = 1) -> float:\n",
    "    \"\"\"Prawdopodobienstwo tego, ze N(mi, sigma) jest wieksze niz lo.\"\"\"\n",
    "    return 1 - normal_cdf(lo, mi, sigma)\n",
    "\n",
    "#wartosc znajduje sie w przedziale, jezeli jest mniejsza od gornej wartosci granicznej i wieksza od dolnej wartosci granicznej.\n",
    "def normal_probability_between(lo: float,\n",
    "                              hi: float,\n",
    "                              mi: float,\n",
    "                              sigma: float = 1) -> float:\n",
    "    \"\"\"prawdopodobienstwo tego, ze N(mi, sigma) jest pomiedzy lo i hi\"\"\"\n",
    "    return normal_cdf(hi, mi, sigma) - normal_cdf(lo, mi, sigma)\n",
    "\n",
    "#wartosc jest poza przedzialem, jezeli nie znajduje sie pomiedzy ograniczeniami\n",
    "\n",
    "def normal_probability_outside(lo: float,\n",
    "                              hi: float,\n",
    "                              mi: float = 0,\n",
    "                              sigma: float = 1) -> float:\n",
    "    \"\"\"prawdopodobienstwo tego, ze N(mi, sigma) nie jest pomiedzy lo i hi\"\"\"\n",
    "    return 1 - normal_probability_between(lo, hi, mi, sigma)\n"
   ]
  },
  {
   "cell_type": "code",
   "execution_count": 106,
   "metadata": {},
   "outputs": [],
   "source": [
    "#operacja odwrotna do poprzedniej, znajdujemy niekoncowy obszar lub symetryczny interwal wokol sredniej\n",
    "#musi on odpowiadac pewnemu poziomowi prawdopodobienstwa\n",
    "#teraz zeby okreslic wysrodkowany interwal na wartosc sredniej i zawierajacy 60% prawdopodobienstwa, to musimy\n",
    "#okreslic wartosci odciecia w ktorych dolne i gorne krancowe obszary zawieraja po 20% prawdopodobienstwa ( pozostawiamy\n",
    "#srodkowe 60%)\n",
    "\n",
    "from scratch.probability import inverse_normal_cdf\n",
    "def normal_upper_bound(probability: float,\n",
    "                      mi: float = 0,\n",
    "                      sigma: float = 1) -> float:\n",
    "    \"\"\"zwraca \"z\" przy zachowaniu warunku P(Z <= z) = prawdopodobienstwo\"\"\"\n",
    "    return inverse_normal_cdf(probability, mi, sigma)\n",
    "\n",
    "def normal_lower_bound(probability: float,\n",
    "                      mi: float = 0,\n",
    "                      sigma: float = 1) -> float:\n",
    "    \"\"\"Zwraca \"z\" przy zachowaniu warunku P(Z >= z) = prawdopodobienstwo\"\"\"\n",
    "    return inverse_normal_cdf(1 - probability, mi, sigma)\n",
    "\n",
    "def normal_two_sided_bounds(probability: float,\n",
    "                           mi: float = 0,\n",
    "                           sigma: float = 1) -> Tuple[float, float]:\n",
    "    \"\"\"zwraca granice symetryczne(umieszczone wokol sredniej), ktore obejmuja okreslone prawdopodobienstwo\"\"\"\n",
    "    tail_probability = (1 - probability) / 2\n",
    "    \n",
    "    #nad gorna granica powinna znajdowac sie wartosc tail_probability\n",
    "    upper_bound = normal_lower_bound(tail_probability, mi, sigma)\n",
    "    \n",
    "    #pod dolna granica powinna znajdowac sie wartosc tail_probability\n",
    "    \n",
    "    lower_bound = normal_upper_bound(tail_probability, mi, sigma)\n",
    "    \n",
    "    return lower_bound, upper_bound"
   ]
  },
  {
   "cell_type": "code",
   "execution_count": 107,
   "metadata": {},
   "outputs": [
    {
     "data": {
      "text/plain": [
       "(500.0, 15.811388300841896)"
      ]
     },
     "execution_count": 107,
     "metadata": {},
     "output_type": "execute_result"
    }
   ],
   "source": [
    "mi_0, sigma_0 = normal_approximation_to_binomial(1000, 0.5)\n",
    "mi_0, sigma_0\n",
    "#rozklad jest zblizony do rozkladu normalnego"
   ]
  },
  {
   "cell_type": "code",
   "execution_count": 108,
   "metadata": {},
   "outputs": [
    {
     "data": {
      "text/plain": [
       "(469.01026640487555, 530.9897335951244)"
      ]
     },
     "execution_count": 108,
     "metadata": {},
     "output_type": "execute_result"
    }
   ],
   "source": [
    "#istotnosc - oznacza jak bardzo jestesmy sklonni popelniac blad typu 1 (\"falszywie pozytywny\")\n",
    "#gdzie odrzucamy hipoteze H0, nawet gdy jest prawdziwa\n",
    "#przyjmuje sie chec popelnienia tego bledu na 5% lub 1%\n",
    "\n",
    "#(461, 531)\n",
    "lower_bound, upper_bound = normal_two_sided_bounds(0.95, mi_0, sigma_0)\n",
    "lower_bound, upper_bound"
   ]
  },
  {
   "cell_type": "code",
   "execution_count": 109,
   "metadata": {},
   "outputs": [
    {
     "data": {
      "text/plain": [
       "0.8865480012953671"
      ]
     },
     "execution_count": 109,
     "metadata": {},
     "output_type": "execute_result"
    }
   ],
   "source": [
    "#moc testu - prawdopodobienstwo niepopelnienia bledu typu 2\n",
    "#tutaj nie odrzuca sie hipotezy h0 nawet wtedy, gdy jest ona falszywa\n",
    "\n",
    "#sprwadzamy co sie dzieje, jezeli p wynosi 0.55(czesciej wypada orzel)\n",
    "\n",
    "#ograniczenie 95% na podstawie zalozenia ze p jest rowne 0.5\n",
    "lo, hi = normal_two_sided_bounds(0.95, mi_0, sigma_0)\n",
    "lo, hi\n",
    "#rzeczywiste wartosci mi i sigma przy zalozeniu ze p = 0.55\n",
    "mi_1, sigma_1 = normal_approximation_to_binomial(1000, 0.55)\n",
    "mi_1, sigma_1\n",
    "\n",
    "#blad typu drugiego oznacza blad polegajacy na nieodrzuceniu hipotezy zerowej,\n",
    "#do czego dochodzi, gdy X ziac znajduje sie w naszym poczatkowym interwale\n",
    "type_2_probability = normal_probability_between(lo, hi, mi_1, sigma_1)\n",
    "power = 1 - type_2_probability\n",
    "power\n"
   ]
  },
  {
   "cell_type": "code",
   "execution_count": 110,
   "metadata": {},
   "outputs": [
    {
     "data": {
      "text/plain": [
       "0.9363794803307173"
      ]
     },
     "execution_count": 110,
     "metadata": {},
     "output_type": "execute_result"
    }
   ],
   "source": [
    "#test jednostronny - odrzuca hipoteze zerowa, gdy wartosc x jest wieksza od 500, ale nie wtedy, gdy jest mniejsza od 500.\n",
    "hi = normal_upper_bound(0.95, mi_0, sigma_0)\n",
    "hi\n",
    "#wynosi 526(<531) poniewaz potrzebujemy wiecej prawdopodobienstwa w gornej czesci\n",
    "type_2_probability = normal_probability_below(hi, mi_1, sigma_1)\n",
    "power = 1 - type_2_probability\n",
    "power"
   ]
  },
  {
   "cell_type": "markdown",
   "metadata": {},
   "source": [
    "# Wartosc p"
   ]
  },
  {
   "cell_type": "code",
   "execution_count": 120,
   "metadata": {},
   "outputs": [
    {
     "data": {
      "text/plain": [
       "0.06207721579598835"
      ]
     },
     "execution_count": 120,
     "metadata": {},
     "output_type": "execute_result"
    }
   ],
   "source": [
    "def two_sided_p_value(x: float, mi: float = 0, sigma: float = 1) -> float:\n",
    "    \"\"\"Jak prawdopodobne jest zaobserwowanie wartosci przynajmniej tak skrajnej jak x\n",
    "    (w obydwu kierunkach) jezeli wartosci sa z przedzialu N(mi, sigma)\"\"\"\n",
    "    \n",
    "    if x >= mi:\n",
    "        #jezeli x jest wiekszy od sredniej\n",
    "        return 2 * normal_probability_above(x, mi, sigma)\n",
    "    else:\n",
    "        #jezeli x jest mniejsze od sredniej\n",
    "        return 2 * normal_probability_below(x, mi, sigma)\n",
    "    \n",
    "#jezeli wyrzucimy orla 530 razy to wykonamy nastepujaca funkcje\n",
    "\n",
    "two_sided_p_value(529.5, mi_0, sigma_0)\n",
    "\n",
    "#529.5 zamiast 530 bo - poprawka ciaglosci - "
   ]
  },
  {
   "cell_type": "markdown",
   "metadata": {},
   "source": [
    "# symulacja - dowodzenie sensownosci powyzszych szacunkow"
   ]
  },
  {
   "cell_type": "code",
   "execution_count": null,
   "metadata": {},
   "outputs": [],
   "source": [
    "# import random as rd\n",
    "extreme_value_count = 0\n",
    "for _ in range(1000):\n",
    "    num_heads = sum(1 if rd.random() < 0.5 else 0\n",
    "                   for _ in range(1000))\n",
    "    if num_heads >= 530 or num_heads <= 470:\n",
    "        extreme_value_count += 1\n",
    "        \n",
    "        \n",
    "    #wartosc p wynosi 0.062, wiec okolo 62 skrajne wartosci z 1000\n",
    "assert 59 < extreme_value_count < 65 , f'{extreme_value_count}'"
   ]
  },
  {
   "cell_type": "markdown",
   "metadata": {},
   "source": [
    "# przedziały ufnosci"
   ]
  },
  {
   "cell_type": "code",
   "execution_count": 112,
   "metadata": {},
   "outputs": [
    {
     "name": "stdout",
     "output_type": "stream",
     "text": [
      "0.015791611697353755\n",
      "(0.4940490278129096, 0.5559509721870904)\n",
      "0.015760710643876435\n",
      "(0.5091095927295919, 0.5708904072704082)\n"
     ]
    }
   ],
   "source": [
    "#w tym przypadku korzystamy z szacunkow, bo nie znamy wartosci p\n",
    "#czesto stosuje sie to w praktyce\n",
    "#Korzystajac z przyblizenia o rozkladzie normalnym, dochodzimy do wniosku, ze \"jestesmy pewnie na 95%\" co do tego\n",
    "#ze nastepujacy przedzial zawiera przawdziwa wartosc parametru p\n",
    "\n",
    "p_hat = 525 / 1000\n",
    "mi = p_hat\n",
    "sigma = math.sqrt(p_hat * (1 - p_hat) / 1000)\n",
    "print(sigma)\n",
    "normal_2_sided = normal_two_sided_bounds(0.95, mi, sigma)\n",
    "print(normal_2_sided)\n",
    "#wartosc miesci sie w naszym przedziale ufnosci, moneta jest uczciwa\n",
    "\n",
    "#gdybysmy zaobserwowali wyrzucenie orla 540 razy to\n",
    "\n",
    "p_hat = 540 / 1000\n",
    "mi = p_hat\n",
    "sigma = math.sqrt(p_hat * (1 - p_hat) / 1000)\n",
    "print(sigma)\n",
    "\n",
    "normal_2_sided_2 = normal_two_sided_bounds(0.95, mi, sigma)\n",
    "print(normal_2_sided_2)\n",
    "#w takim przypadku moneta nie przechodzi testu - zalozylismy, ze gdyby hipoteza ta byla prawdziwa, to okazywalaby\n",
    "#sie prawdziwa w 95% przypadkow"
   ]
  },
  {
   "cell_type": "markdown",
   "metadata": {},
   "source": [
    "# hakowanie wartosci p"
   ]
  },
  {
   "cell_type": "code",
   "execution_count": 113,
   "metadata": {},
   "outputs": [],
   "source": [
    "#procedura ktora blednie odrzuca hipoteze zerowa w tylko 5% przypadkow, bedzie zgodnei z definicja blednie odrzucac hipoteze\n",
    "#zerowa przez 5% czasu\n",
    "\n",
    "from typing import List\n",
    "def run_experiment()-> List[bool]:\n",
    "    \"\"\"wykonaj 1000 rzutow moneta. True oznacza orla, False oznacza reszke\"\"\"\n",
    "    return [rd.random() < 0.5 for _ in range(1000)]\n",
    "\n",
    "def reject_fairness(experiment: List[bool]) -> bool:\n",
    "    \"\"\"zaklada 5% poziom ufnosci\"\"\"\n",
    "    num_heads = len([flip for flip in experiment if flip])\n",
    "    return num_heads < 469 or num_heads > 531\n",
    "\n",
    "rd.seed(0)\n",
    "experiments = [run_experiment() for _ in range(1000)]\n",
    "num_rejections = len([experiment for experiment in experiments if reject_fairness(experiment)])\n",
    "\n",
    "assert num_rejections == 46"
   ]
  },
  {
   "cell_type": "markdown",
   "metadata": {},
   "source": [
    "# przyklad: przeprowadzenie testu A-B"
   ]
  },
  {
   "cell_type": "code",
   "execution_count": 122,
   "metadata": {},
   "outputs": [
    {
     "name": "stdout",
     "output_type": "stream",
     "text": [
      "-1.1403464899034472 0.254141976542236\n",
      "-2.948839123097944 0.003189699706216853\n"
     ]
    }
   ],
   "source": [
    "#zakldamy ze Na ludzi widzialo reklame A i na z nich ja kliknelo. Kazde wyswietlenie reklamy mozemy traktowac jako probe\n",
    "#Bernoulliego, w ktorej pa jest prawdopodobienstwem tego, ze ktos kliknie reklame A. Wtedy (jezeli Na jest wieksze, ale warunek\n",
    "#ten jest w tym przypadku spelniony) wiemy ze na/Na jest zmienna losowa o rozkladzie zblizonym do normalnego, a wiec o sredniej\n",
    "#pa i odchyleniu standardowym ...\n",
    "\n",
    "#tak samo dla nb/Nb ktore to jest zmienna losowa o rozkladzie zblizonym do normalnego, a wiec o srednije pb i odchyleniu...\n",
    "\n",
    "def estimated_parameters(N: int, n: int) -> Tuple[float, float]:\n",
    "    p = n / N\n",
    "    sigma = math.sqrt(p * (1 - p) / N)\n",
    "    return p, sigma\n",
    "\n",
    "#jezeli zalozymy ze te dwie zmienne o rozkladzie normalnym sa niezalezne (poszczegolne proby Bernoulliego powinny byc\n",
    "#niezalezne) to ich roznica rowniez powinna miec rozklad normalny o sredniej pb - pa i odchyleniu stadnardowym sqrt(sigma^2a+\n",
    "#sigma^2b)\n",
    "\n",
    "#teraz mozemy sprawdzic hipoteze zerowa, ktora mowi ze wartoscia pa i pb sa takie same\n",
    "\n",
    "def a_b_test_statistic(N_A: int, n_A: int, N_B: int, n_B: int) -> float:\n",
    "    p_A, sigma_A = estimated_parameters(N_A, n_A)\n",
    "    p_B, sigma_B = estimated_parameters(N_B, n_B)\n",
    "    return (p_B - p_A) / math.sqrt(sigma_A ** 2 + sigma_B ** 2)\n",
    "\n",
    "z = a_b_test_statistic(1000, 200, 1000, 180)   \n",
    "c = two_sided_p_value(z)       \n",
    "print(z, c)\n",
    "\n",
    "\n",
    "\n",
    "z2 = a_b_test_statistic(1000, 200, 1000, 150)   \n",
    "c2 = two_sided_p_value(z2)\n",
    "print(z2, c2)\n",
    "\n",
    "#prawdopodobienstwo 0.25 oznacza ze srednie sa w 25% rowne i nie ma miedzy nimi zbyt duzej roznicyy\n",
    "#drugi przypadek oznacza ze prawdopodobienstwo uzyskania tak duzej roznicy przy rownie skutecznych reklamach wynosi 0.003 czyli \n",
    "#reklamy nie sa sobie rowne i skutecznosc jednej jest wieksza"
   ]
  },
  {
   "cell_type": "markdown",
   "metadata": {},
   "source": [
    "# wnioskowanie bayesowskie"
   ]
  },
  {
   "cell_type": "code",
   "execution_count": null,
   "metadata": {},
   "outputs": [],
   "source": [
    "#jest to alternatywna meetoda wnioskowania, traktuje ona nieznane parametry jakby byly zmiennymi losowymi\n",
    "#Analityk rozpoczyna prace od rozkladu a priori a pozniej korzysta z \n",
    "#zebranych w ten sposob danych i z twierdzenia BAYESA w celu uzyskania rozkladu a posteriori parametrow\n",
    "#Okreslamy prawdopodobienstwo samych parametrow"
   ]
  },
  {
   "cell_type": "code",
   "execution_count": null,
   "metadata": {},
   "outputs": [],
   "source": [
    "#jezeli nieznany parametr jest prawdopodobienstwem to\n",
    "#korzystami z a priori rozkladu beta, w tym rozkladzie wszystkie prawdopodobienstwa przyjmuja wartosci od 0 do 1\n",
    "def B(alpha: float, beta: float) -> float:\n",
    "    \"\"\"stala normalizacji zapewniajaca calkowite prawdopodobienstwo rowne 1\"\"\"\n",
    "    return math.gamma(alpha) * math.gamma(beta) / math.gamma(alpha + beta)\n",
    "\n",
    "def beta_pdf(x: float, alpha: float, beta: float) -> float:\n",
    "    if x < 0 or x > 1:             #wszystkie wagi mieszcza sie w zakresie [0, 1]\n",
    "        return 0\n",
    "    return x ** (alpha - 1) * (1 - x) ** (beta - 1) / B(alpha, beta)\n",
    "\n",
    "#ww rozklad, wysrodkowuje wagi w punkcie"
   ]
  }
 ],
 "metadata": {
  "kernelspec": {
   "display_name": "Python 3",
   "language": "python",
   "name": "python3"
  },
  "language_info": {
   "codemirror_mode": {
    "name": "ipython",
    "version": 3
   },
   "file_extension": ".py",
   "mimetype": "text/x-python",
   "name": "python",
   "nbconvert_exporter": "python",
   "pygments_lexer": "ipython3",
   "version": "3.8.6"
  }
 },
 "nbformat": 4,
 "nbformat_minor": 4
}
