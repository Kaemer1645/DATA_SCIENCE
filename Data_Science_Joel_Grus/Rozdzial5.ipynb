{
 "cells": [
  {
   "cell_type": "code",
   "execution_count": 68,
   "metadata": {},
   "outputs": [],
   "source": [
    "#statystyka"
   ]
  },
  {
   "cell_type": "code",
   "execution_count": 43,
   "metadata": {},
   "outputs": [
    {
     "data": {
      "image/png": "[encoded data removed]",
      "text/plain": [
       "<Figure size 432x288 with 1 Axes>"
      ]
     },
     "metadata": {
      "needs_background": "light"
     },
     "output_type": "display_data"
    }
   ],
   "source": [
    "#przestawienie liczby znajomych na histogramie za pomoca funkcji counter i plt.bar\n",
    "\n",
    "from collections import Counter\n",
    "import matplotlib.pyplot as plt\n",
    "from random import randrange, seed\n",
    "from typing import List\n",
    "seed(10)\n",
    "num_friends = [randrange(0, 100) for _ in range(300)]\n",
    "friend_counts = Counter(num_friends)\n",
    "\n",
    "xs = range(101)\n",
    "ys = [friend_counts[x] for x in xs]\n",
    "\n",
    "plt.bar(xs, ys)\n",
    "plt.axis([0, 101, 0, 25])\n",
    "plt.title(\"Histogram liczby znajomych\")\n",
    "plt.xlabel(\"Liczba znajomych\")\n",
    "plt.ylabel(\"Liczba uzytkownikow\")\n",
    "plt.show()"
   ]
  },
  {
   "cell_type": "code",
   "execution_count": 44,
   "metadata": {},
   "outputs": [
    {
     "name": "stdout",
     "output_type": "stream",
     "text": [
      "300\n",
      "99\n",
      "0\n"
     ]
    }
   ],
   "source": [
    "#takie dane ciezko opisac podczas rozmowy, dlatego decydujemy się na obliczenie parametrów statystycznych\n",
    "\n",
    "#podstawowy to liczba elementow zbioru\n",
    "\n",
    "num_points = len(num_friends)\n",
    "print(num_points)\n",
    "\n",
    "#najnizsza i najwyzsza wartosc w zbiorze\n",
    "\n",
    "largest_value = max(num_friends)\n",
    "print(largest_value)\n",
    "smallest_value = min(num_friends)\n",
    "print(smallest_value)\n",
    "\n",
    "#posortowane wartosci\n",
    "sorted_values = sorted(num_friends)\n",
    "smalles_value = sorted_values[0]\n",
    "second_smallest_value = sorted_values[1]\n",
    "second_largest_value = sorted_values[-2]"
   ]
  },
  {
   "cell_type": "code",
   "execution_count": 45,
   "metadata": {},
   "outputs": [
    {
     "data": {
      "text/plain": [
       "50.126666666666665"
      ]
     },
     "execution_count": 45,
     "metadata": {},
     "output_type": "execute_result"
    }
   ],
   "source": [
    "#tendencje centralne\n",
    "\n",
    "#obliczenie sredniej\n",
    "\n",
    "def mean(xs: List[float]) -> float:\n",
    "    return sum(xs) / len(xs)\n",
    "\n",
    "mean(num_friends)"
   ]
  },
  {
   "cell_type": "code",
   "execution_count": 46,
   "metadata": {},
   "outputs": [],
   "source": [
    "#mediana\n",
    "\n",
    "#podkreslenie w nazwie oznacza, ze jest to funkcja \"prywatna\"\n",
    "#zakladamy, ze bedzie ona wywylywana tylko przez funkcje median,\n",
    "#a nie bezposrednio przez uzytkownikow\n",
    "\n",
    "def _median_odd(xs: List[float]) -> float:\n",
    "    \"\"\"jezeli len(xs) jest nieparzyste, to mediana jest srodkowym elementem\"\"\"\n",
    "    return sorted(xs)[len(xs) // 2]\n",
    "def _median_even(xs: List[float]) -> float:\n",
    "    \"\"\"jezeli len(xs) jest parzyste, to mediana jest srednia dwoch srodkowych elemenetow\"\"\"\n",
    "    sorted_xs = sorted(xs)\n",
    "    hi_midpoint = len(xs) // 2\n",
    "    return (sorted_xs[hi_midpoint - 1] + sorted_xs[hi_midpoint]) / 2\n",
    "\n",
    "def median(v: List[float]) -> float:\n",
    "    \"\"\"zwraca mediane wektora v\"\"\"\n",
    "    return _median_even(v) if len(v) % 2 == 0 else _median_odd(v)\n",
    "\n",
    "assert median([1, 10, 2, 9, 5]) == 5\n",
    "assert median([1, 9, 2, 10]) == (2+9)/2\n"
   ]
  },
  {
   "cell_type": "code",
   "execution_count": 47,
   "metadata": {},
   "outputs": [
    {
     "data": {
      "text/plain": [
       "53.0"
      ]
     },
     "execution_count": 47,
     "metadata": {},
     "output_type": "execute_result"
    }
   ],
   "source": [
    "#mediana liczby znajomych\n",
    "friends_median = median(num_friends)\n",
    "friends_median"
   ]
  },
  {
   "cell_type": "code",
   "execution_count": 54,
   "metadata": {},
   "outputs": [],
   "source": [
    "#kwantyle\n",
    "\n",
    "#jest to ugolnienie mediany\n",
    "#kwantyl reprezentuje wartosci mniejsze od tej, do ktorej nalezy okreslony percentyl danych\n",
    "#dla zobrazwoania, mediana reprezentuje wartosc mniejsza od 50% danych\n",
    "\n",
    "def quantile(xs: List[float], p: float) -> float:\n",
    "    \"\"\"Zwraca ze zbioru xs wartosc bedaca p-tym percentylem\"\"\"\n",
    "    p_index = int(p * len(xs))\n",
    "    return sorted(xs)[p_index]\n",
    "\n",
    "#dla tego przykladu, jezeli mamy percentyl 0.1, tzn ze 10% danych jest mniejszych od wartosci 30\n",
    "\n",
    "\n",
    "assert quantile(num_friends, 0.10) == 11"
   ]
  },
  {
   "cell_type": "code",
   "execution_count": 59,
   "metadata": {},
   "outputs": [],
   "source": [
    "#dominanta\n",
    "\n",
    "#jest to wartosc najczesciej wystepujaca w probie\n",
    "\n",
    "def mode(x: List[float]) -> List[float]:\n",
    "    \"\"\"Zwraca liste, zbior moze zawierac wiecej niz jedna dominante\"\"\"\n",
    "    counts = Counter(x)\n",
    "    max_count = max(counts.values())\n",
    "    return [x_i for x_i, count in counts.items()\n",
    "           if count == max_count]\n",
    "\n",
    "\n",
    "assert set(mode(num_friends)) == {61}"
   ]
  },
  {
   "cell_type": "code",
   "execution_count": 63,
   "metadata": {},
   "outputs": [],
   "source": [
    "#dyspersja\n",
    "\n",
    "#dyspersja okresla rozrzut danych czyli roznica miedzy najwyzsza i najmniejsza wartoscia, zwana tez zakresem\n",
    "\n",
    "def data_range(xs: List[float]) -> float:\n",
    "    return max(xs) - min(xs)\n",
    "\n",
    "\n",
    "assert data_range(num_friends) == 99"
   ]
  },
  {
   "cell_type": "code",
   "execution_count": 72,
   "metadata": {},
   "outputs": [
    {
     "data": {
      "text/plain": [
       "739.0340691192863"
      ]
     },
     "execution_count": 72,
     "metadata": {},
     "output_type": "execute_result"
    }
   ],
   "source": [
    "#wariancja\n",
    "\n",
    "#bardziej zlozona miara rozrzutu\n",
    "\n",
    "from scratch.linear_algebra import sum_of_squares\n",
    "def de_mean(xs: List[float]) -> List[float]:\n",
    "    \"\"\"przeksztalca x poprzez odjecie sredniej\"\"\"\n",
    "    x_bar = mean(xs)\n",
    "    return [x - x_bar for x in xs]\n",
    "\n",
    "def variance(xs: List[float]) -> float:\n",
    "    \"\"\"Prawie jak srednie odchylenie kwadratowe od sredniej\"\"\"\n",
    "    assert len(xs) >= 2, \"wariancja wymaga co najmniej dwoch elementow\"\n",
    "    \n",
    "    n = len(xs)\n",
    "    deviations = de_mean(xs)\n",
    "    return sum_of_squares(deviations) / (n-1)\n",
    "\n",
    "variance(num_friends)\n",
    "\n",
    "\n",
    "#https://www.statystyczny.pl/odchylenie-standardowe-z-proby/ - dobrze wytlumaczone dlaczego n-1"
   ]
  },
  {
   "cell_type": "code",
   "execution_count": 87,
   "metadata": {},
   "outputs": [],
   "source": [
    "#odchylenie standardowe\n",
    "\n",
    "import math\n",
    "def standard_deviation(xs: List[float]) -> float:\n",
    "    \"\"\"odchylenie standardowe jest pierwiastkiem kwadratowym wariancji\"\"\"\n",
    "    return math.sqrt(variance(xs))"
   ]
  },
  {
   "cell_type": "code",
   "execution_count": 88,
   "metadata": {},
   "outputs": [],
   "source": [
    "#rozstep kwartylny - roznica pomiedzy kwantylem 0.25 a kwantylem 0.75 czyli pierwszym a trzecim kwartylem\n",
    "\n",
    "def interquartile_range(xs: List[float]) -> float:\n",
    "    return quantile(xs, 0.75) - quantile(xs, 0.25)\n",
    "\n",
    "#na te wartosc nie wplywa niewielka liczba elementow odstajacych "
   ]
  },
  {
   "cell_type": "markdown",
   "metadata": {},
   "source": [
    "# korelacja"
   ]
  },
  {
   "cell_type": "code",
   "execution_count": 92,
   "metadata": {},
   "outputs": [],
   "source": [
    "#kowariancja\n",
    "#jest to parametr zwiazany z wariancja\n",
    "\n",
    "#wariancja okresla odchylenie pojedynczej zmiennej od sredniej, a kowariancja\n",
    "#jak dwie zmienne roznica sie lacznie od swoich srednich\n",
    "\n",
    "from scratch.linear_algebra import dot\n",
    "\n",
    "def covariance(xs: List[float], ys: List[float]) -> float:\n",
    "    assert len(xs) == len(ys), \"xs i ys musza miec taka sama liczbe elementow\"\n",
    "    return dot(de_mean(xs), de_mean(ys)) / (len(xs) - 1)    "
   ]
  },
  {
   "cell_type": "code",
   "execution_count": 93,
   "metadata": {},
   "outputs": [],
   "source": [
    "#korelacja\n",
    "\n",
    "def correlation(xs: List[float], ys: List[float]) -> float:\n",
    "    \"\"\"mierzy, jak bardzo xs i ys roznia sie lacznie od swoich srednich\"\"\"\n",
    "    stdev_x = standard_deviation(xs)\n",
    "    stdev_y = standard_deviation(ys)\n",
    "    if stdev_x > 0 and stdev_y > 0:\n",
    "        return covariance(xs, ys) / stdev_x / stdev_y\n",
    "    else: \n",
    "        return 0"
   ]
  },
  {
   "cell_type": "code",
   "execution_count": 94,
   "metadata": {},
   "outputs": [],
   "source": [
    "num_friends = [100.0,49,41,40,25,21,21,19,19,18,18,16,15,15,15,15,14,14,13,13,13,13,12,12,11,10,10,10,10,10,10,10,10,10,10,10,10,10,10,10,9,9,9,9,9,9,9,9,9,9,9,9,9,9,9,9,9,9,8,8,8,8,8,8,8,8,8,8,8,8,8,7,7,7,7,7,7,7,7,7,7,7,7,7,7,7,6,6,6,6,6,6,6,6,6,6,6,6,6,6,6,6,6,6,6,6,6,6,5,5,5,5,5,5,5,5,5,5,5,5,5,5,5,5,5,4,4,4,4,4,4,4,4,4,4,4,4,4,4,4,4,4,4,4,4,3,3,3,3,3,3,3,3,3,3,3,3,3,3,3,3,3,3,3,3,2,2,2,2,2,2,2,2,2,2,2,2,2,2,2,2,2,1,1,1,1,1,1,1,1,1,1,1,1,1,1,1,1,1,1,1,1,1,1]\n",
    "\n",
    "daily_minutes = [1,68.77,51.25,52.08,38.36,44.54,57.13,51.4,41.42,31.22,34.76,54.01,38.79,47.59,49.1,27.66,41.03,36.73,48.65,28.12,46.62,35.57,32.98,35,26.07,23.77,39.73,40.57,31.65,31.21,36.32,20.45,21.93,26.02,27.34,23.49,46.94,30.5,33.8,24.23,21.4,27.94,32.24,40.57,25.07,19.42,22.39,18.42,46.96,23.72,26.41,26.97,36.76,40.32,35.02,29.47,30.2,31,38.11,38.18,36.31,21.03,30.86,36.07,28.66,29.08,37.28,15.28,24.17,22.31,30.17,25.53,19.85,35.37,44.6,17.23,13.47,26.33,35.02,32.09,24.81,19.33,28.77,24.26,31.98,25.73,24.86,16.28,34.51,15.23,39.72,40.8,26.06,35.76,34.76,16.13,44.04,18.03,19.65,32.62,35.59,39.43,14.18,35.24,40.13,41.82,35.45,36.07,43.67,24.61,20.9,21.9,18.79,27.61,27.21,26.61,29.77,20.59,27.53,13.82,33.2,25,33.1,36.65,18.63,14.87,22.2,36.81,25.53,24.62,26.25,18.21,28.08,19.42,29.79,32.8,35.99,28.32,27.79,35.88,29.06,36.28,14.1,36.63,37.49,26.9,18.58,38.48,24.48,18.95,33.55,14.24,29.04,32.51,25.63,22.22,19,32.73,15.16,13.9,27.2,32.01,29.27,33,13.74,20.42,27.32,18.23,35.35,28.48,9.08,24.62,20.12,35.26,19.92,31.02,16.49,12.16,30.7,31.22,34.65,13.13,27.51,33.2,31.57,14.1,33.42,17.44,10.12,24.42,9.82,23.39,30.93,15.03,21.67,31.09,33.29,22.61,26.89,23.48,8.38,27.81,32.35,23.84]\n",
    "\n",
    "outlier = num_friends.index(100)\n",
    "\n",
    "num_friends_good = [x for i, x in enumerate(num_friends)\n",
    "                   if i != outlier]\n",
    "\n",
    "daily_minutes_good = [x for i, x in enumerate(daily_minutes)\n",
    "                     if i != outlier]\n",
    "\n",
    "daily_hours_good = [dm / 60 for dm in daily_minutes_good]"
   ]
  },
  {
   "cell_type": "code",
   "execution_count": 96,
   "metadata": {},
   "outputs": [
    {
     "data": {
      "text/plain": [
       "0.24736957366478218"
      ]
     },
     "execution_count": 96,
     "metadata": {},
     "output_type": "execute_result"
    }
   ],
   "source": [
    "#korelacja dla blednych\n",
    "\n",
    "bledne = correlation(num_friends, daily_minutes)\n",
    "bledne"
   ]
  },
  {
   "cell_type": "code",
   "execution_count": 97,
   "metadata": {},
   "outputs": [
    {
     "data": {
      "text/plain": [
       "0.5736792115665573"
      ]
     },
     "execution_count": 97,
     "metadata": {},
     "output_type": "execute_result"
    }
   ],
   "source": [
    "#korelacja dla bezblednych\n",
    "\n",
    "bezbledne = correlation(num_friends_good, daily_minutes_good)\n",
    "bezbledne"
   ]
  },
  {
   "cell_type": "code",
   "execution_count": 84,
   "metadata": {},
   "outputs": [
    {
     "data": {
      "image/png": "[encoded data removed]",
      "text/plain": [
       "<Figure size 432x288 with 1 Axes>"
      ]
     },
     "metadata": {
      "needs_background": "light"
     },
     "output_type": "display_data"
    }
   ],
   "source": [
    "#graph 1\n",
    "\n",
    "plt.scatter(num_friends, daily_minutes)\n",
    "plt.axis([0, 100 , 0, 100])\n",
    "plt.title(\"Histogram liczby znajomych\")\n",
    "plt.xlabel(\"Liczba znajomych\")\n",
    "plt.ylabel(\"Liczba uzytkownikow\")\n",
    "plt.show()"
   ]
  },
  {
   "cell_type": "code",
   "execution_count": 81,
   "metadata": {},
   "outputs": [
    {
     "data": {
      "image/png": "[encoded data removed]",
      "text/plain": [
       "<Figure size 432x288 with 1 Axes>"
      ]
     },
     "metadata": {
      "needs_background": "light"
     },
     "output_type": "display_data"
    }
   ],
   "source": [
    "#graph 2\n",
    "\n",
    "plt.scatter(num_friends_good, daily_minutes_good)\n",
    "plt.axis([0, 50 , 0, 100])\n",
    "plt.title(\"Histogram liczby znajomych\")\n",
    "plt.xlabel(\"Liczba znajomych\")\n",
    "plt.ylabel(\"Liczba uzytkownikow\")\n",
    "plt.show()"
   ]
  }
 ],
 "metadata": {
  "kernelspec": {
   "display_name": "Python 3",
   "language": "python",
   "name": "python3"
  },
  "language_info": {
   "codemirror_mode": {
    "name": "ipython",
    "version": 3
   },
   "file_extension": ".py",
   "mimetype": "text/x-python",
   "name": "python",
   "nbconvert_exporter": "python",
   "pygments_lexer": "ipython3",
   "version": "3.8.6"
  }
 },
 "nbformat": 4,
 "nbformat_minor": 4
}
