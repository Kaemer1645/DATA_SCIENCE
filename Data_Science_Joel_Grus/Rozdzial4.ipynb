{
 "cells": [
  {
   "cell_type": "code",
   "execution_count": null,
   "metadata": {},
   "outputs": [],
   "source": [
    "#algebra liniowa"
   ]
  },
  {
   "cell_type": "code",
   "execution_count": 8,
   "metadata": {},
   "outputs": [
    {
     "data": {
      "text/plain": [
       "[8, 12, 14]"
      ]
     },
     "execution_count": 8,
     "metadata": {},
     "output_type": "execute_result"
    }
   ],
   "source": [
    "#wektory\n",
    "\n",
    "from typing import List\n",
    "Vector = List[float]\n",
    "\n",
    "def add(v: Vector, w: Vector) -> Vector:\n",
    "    \"\"\"dodawanie wektorow\"\"\"\n",
    "    assert len(v) == len(w), \"wektory muszą mieć taką samą długość\"\n",
    "    return [v_i + w_i for v_i, w_i in zip(v, w)]\n",
    "\n",
    "assert add([1, 2, 3], [4, 5, 6]) == [5, 7, 9]\n",
    "a = add([5,6,7],[3,6,7])\n",
    "a"
   ]
  },
  {
   "cell_type": "code",
   "execution_count": 10,
   "metadata": {},
   "outputs": [
    {
     "data": {
      "text/plain": [
       "[0, 0, 0]"
      ]
     },
     "execution_count": 10,
     "metadata": {},
     "output_type": "execute_result"
    }
   ],
   "source": [
    "def subtract(v: Vector, w: Vector) -> Vector:\n",
    "    \"\"\"odejmowanie wektorow\"\"\"\n",
    "    assert len(v) == len(w), \"wektory muszą mieć taką samą długość\"\n",
    "    return [v_i - w_i for v_i, w_i in zip(v, w)]\n",
    "\n",
    "assert subtract([5, 7, 9], [4, 5, 6]) == [1, 2 , 3]\n",
    "\n",
    "b = subtract([5, 4, 3],[5, 4, 3])\n",
    "b"
   ]
  },
  {
   "cell_type": "code",
   "execution_count": 11,
   "metadata": {},
   "outputs": [],
   "source": [
    "def vector_sum(vectors: List[Vector]) -> Vector:\n",
    "    \"\"\"sumuje liste wektorow\"\"\"\n",
    "    #sprawdzenie czy lista wektorow nie jest pusta\n",
    "    assert vectors, \"brak wektorow\"\n",
    "    \n",
    "    #sprawdzenie czy wszystkie wektory maja taka sama dlugosc\n",
    "    num_elements = len(vectors[0])\n",
    "    assert all(len(v) == num_elements for v in vectors), \"maja rozne dlugosci\"\n",
    "    \n",
    "    #i-ty element wektora wynikowego jest suma elementow [i] kazdego wektora\n",
    "    return [sum(vector[i] for vector in vectors) for i in range(num_elements)]\n",
    "\n",
    "    assert vector_sum([[1, 2], [3, 4], [5, 6], [7, 8]]) == [16, 20]"
   ]
  },
  {
   "cell_type": "code",
   "execution_count": 12,
   "metadata": {},
   "outputs": [],
   "source": [
    "def scalar_multiply(c: float, v: Vector) -> Vector:\n",
    "    \"\"\"mnozy kazdy element przez c\"\"\"\n",
    "    return [c * v_i for v_i in v]\n",
    "\n",
    "assert scalar_multiply(2, [2, 2, 2]) == [4, 4, 4]"
   ]
  },
  {
   "cell_type": "code",
   "execution_count": 14,
   "metadata": {},
   "outputs": [],
   "source": [
    "def vector_mean(vectors: List[Vector]) -> Vector:\n",
    "    \"\"\"oblicza wektor, ktorego i-ty element jest srednia i-tych elementow wektorow wejsciowych\"\"\"\n",
    "    n = len(vectors)\n",
    "    return scalar_multiply(1/n, vector_sum(vectors))"
   ]
  },
  {
   "cell_type": "code",
   "execution_count": 15,
   "metadata": {},
   "outputs": [],
   "source": [
    "def dot(v: Vector, w: Vector) -> Vector:\n",
    "    \"\"\"oblicza v_i * w_i + ... + v_n * w_n\"\"\"\n",
    "    assert len(v) == len(w), \"wektory musza miec taka sama dlugosc\"\n",
    "    return sum(v_i * w_i for v_i, w_i in zip(v, w))\n",
    "\n",
    "assert dot([1, 2, 3],[4, 5, 6]) == 32"
   ]
  },
  {
   "cell_type": "code",
   "execution_count": 16,
   "metadata": {},
   "outputs": [],
   "source": [
    "def sum_of_squares(v: Vector) -> Vector:\n",
    "    \"\"\"zwraca v_i * v_i + ... + v_n * v_n\"\"\"\n",
    "    return dot(v, v)\n",
    "\n",
    "assert sum_of_squares([1, 2, 3]) == 14"
   ]
  },
  {
   "cell_type": "code",
   "execution_count": 18,
   "metadata": {},
   "outputs": [],
   "source": [
    "#obliczanie modulu\n",
    "\n",
    "import math\n",
    "\n",
    "def magnitude(v: Vector) -> Vector:\n",
    "    return math.sqrt(sum_of_squares(v))\n",
    "\n",
    "assert magnitude([3, 4]) == 5"
   ]
  },
  {
   "cell_type": "code",
   "execution_count": 22,
   "metadata": {},
   "outputs": [],
   "source": [
    "#obliczenie dlugosci pomiedzy wektorami\n",
    "\n",
    "def squared_distance(v: Vector, w: Vector) -> float:\n",
    "    return sum_of_squares(subtract(v, w))\n",
    "\n",
    "def distance(v: Vector, w: Vector) -> float:\n",
    "    return math.sqrt(squared_distance(v, w))\n",
    "\n",
    "def distance2(v: Vector, w: Vector) -> float:\n",
    "    return magnitude(subtract(v, w))"
   ]
  },
  {
   "cell_type": "code",
   "execution_count": 25,
   "metadata": {},
   "outputs": [],
   "source": [
    "#macierze\n",
    "\n",
    "Matrix = List[List[float]]\n",
    "\n",
    "#wymiar macierzy\n",
    "#liczba wierszy len(A)\n",
    "#liczba kolum len(A[0])\n",
    "\n",
    "from typing import Tuple\n",
    "\n",
    "def shape(A: Matrix) -> Tuple[int, int]:\n",
    "    \"\"\"zwraca liczbe wierszy i kolumn macierzy A\"\"\"\n",
    "    num_rows = len(A)\n",
    "    num_cols = len(A[0]) if A else 0\n",
    "    return num_rows, num_cols\n",
    "\n",
    "assert shape([[1, 2, 3], [1, 2, 3], [1, 2, 3]])"
   ]
  },
  {
   "cell_type": "code",
   "execution_count": 26,
   "metadata": {},
   "outputs": [],
   "source": [
    "def get_row(A: Matrix, i: int) -> Vector:\n",
    "    \"\"\"zwraca i-ty wiersz macierzy A (jako wektor)\"\"\"\n",
    "    return A[i]\n",
    "\n",
    "def get_col(A: Matrix, j: int) -> Vector:\n",
    "    \"\"\"zwraca j-ta kolumne macierzy A (jako wektor)\"\"\"\n",
    "    return [A_i[j] for A_i in A]\n"
   ]
  },
  {
   "cell_type": "code",
   "execution_count": 27,
   "metadata": {},
   "outputs": [],
   "source": [
    "#mechanizm do tworzenia macierzy o okreslonych wymiarach\n",
    "\n",
    "from typing import Callable #Callable jest typem deklaracji funkcji\n",
    "def make_matrix(num_rows: int,\n",
    "               num_cols: int,\n",
    "               entry_fn: Callable[[int, int], float]) -> Matrix:\n",
    "    \"\"\"Zwraca macierz o wymiarch num_rows x num_cols, ktorej element(i,j) jest definiowany jako entry_fn(i,j)\"\"\"\n",
    "    return [[entry_fn(i, j)\n",
    "            for j in range(num_cols)]\n",
    "           for i in range(num_rows)]\n",
    "\n",
    "#stworzenie funkcji dla macierzy jednostkowej\n",
    "\n",
    "def identify_matrix(n: int) -> Matrix:\n",
    "    \"\"\"Zwraca macierz jednostkowa n x n\"\"\"\n",
    "    return make_matrix(n, n, lambda i, j: 1 if i == j else 0)\n",
    "\n",
    "assert identify_matrix(5) == [[1, 0, 0, 0, 0],\n",
    "                             [0, 1, 0, 0, 0],\n",
    "                             [0, 0, 1, 0, 0],\n",
    "                             [0, 0, 0, 1, 0],\n",
    "                             [0, 0, 0, 0, 1]]"
   ]
  }
 ],
 "metadata": {
  "kernelspec": {
   "display_name": "Python 3",
   "language": "python",
   "name": "python3"
  },
  "language_info": {
   "codemirror_mode": {
    "name": "ipython",
    "version": 3
   },
   "file_extension": ".py",
   "mimetype": "text/x-python",
   "name": "python",
   "nbconvert_exporter": "python",
   "pygments_lexer": "ipython3",
   "version": "3.8.6"
  }
 },
 "nbformat": 4,
 "nbformat_minor": 4
}
